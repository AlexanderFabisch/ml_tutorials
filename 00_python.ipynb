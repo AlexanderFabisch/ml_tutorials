{
 "metadata": {
  "name": "",
  "signature": "sha256:8c14ecdf3abee76e207e3fbf9ff91c3d76646b18526f6eb4f53a821f552e1b35"
 },
 "nbformat": 3,
 "nbformat_minor": 0,
 "worksheets": [
  {
   "cells": [
    {
     "cell_type": "code",
     "collapsed": false,
     "input": [
      "%pylab inline"
     ],
     "language": "python",
     "metadata": {},
     "outputs": [
      {
       "output_type": "stream",
       "stream": "stdout",
       "text": [
        "Populating the interactive namespace from numpy and matplotlib\n"
       ]
      }
     ],
     "prompt_number": 1
    },
    {
     "cell_type": "heading",
     "level": 1,
     "metadata": {},
     "source": [
      "Python"
     ]
    },
    {
     "cell_type": "markdown",
     "metadata": {},
     "source": [
      "* dynamic type system\n",
      "* interpreted (actually: compiled to bytecode, *.pyc files)\n",
      "* multi-paradigm: imperative, procedural, object-oriented, (functional), *literate*; do whatever you want\n",
      "* indentation is important!"
     ]
    },
    {
     "cell_type": "markdown",
     "metadata": {},
     "source": [
      "We assume that you know\n",
      "\n",
      "* Java (static type system, compiled, object-oriented, verbose)\n",
      "* a little bit of C/C++ (static type system, compiled, multi-paradigm, low-level)\n",
      "* maybe Haskell (static type system, compiled, functional)"
     ]
    },
    {
     "cell_type": "heading",
     "level": 2,
     "metadata": {},
     "source": [
      "Variables and Types"
     ]
    },
    {
     "cell_type": "markdown",
     "metadata": {},
     "source": [
      "Integers, floats, strings etc. are similar to Java/C(++)"
     ]
    },
    {
     "cell_type": "code",
     "collapsed": false,
     "input": [
      "a = 5 * 3\n",
      "print(\"a\", a, type(a))"
     ],
     "language": "python",
     "metadata": {},
     "outputs": [
      {
       "output_type": "stream",
       "stream": "stdout",
       "text": [
        "('a', 15, <type 'int'>)\n"
       ]
      }
     ],
     "prompt_number": 2
    },
    {
     "cell_type": "code",
     "collapsed": false,
     "input": [
      "b = \"string\"\n",
      "print(\"b\", b, type(b))"
     ],
     "language": "python",
     "metadata": {},
     "outputs": [
      {
       "output_type": "stream",
       "stream": "stdout",
       "text": [
        "('b', 'string', <type 'str'>)\n"
       ]
      }
     ],
     "prompt_number": 3
    },
    {
     "cell_type": "code",
     "collapsed": false,
     "input": [
      "c = [1, \"list\", 3]\n",
      "print(\"c\", c, type(c))"
     ],
     "language": "python",
     "metadata": {},
     "outputs": [
      {
       "output_type": "stream",
       "stream": "stdout",
       "text": [
        "('c', [1, 'list', 3], <type 'list'>)\n"
       ]
      }
     ],
     "prompt_number": 4
    },
    {
     "cell_type": "markdown",
     "metadata": {},
     "source": [
      "A **dictionary** is a list of key-value pairs (similar to `std::map` in C++)"
     ]
    },
    {
     "cell_type": "code",
     "collapsed": false,
     "input": [
      "d = {\"key\": \"value\", 1: \"d\"}\n",
      "d = dict([(\"key\", \"value\"), (1, \"d\")])\n",
      "print(\"d\", d, type(d))"
     ],
     "language": "python",
     "metadata": {},
     "outputs": [
      {
       "output_type": "stream",
       "stream": "stdout",
       "text": [
        "('d', {1: 'd', 'key': 'value'}, <type 'dict'>)\n"
       ]
      }
     ],
     "prompt_number": 5
    },
    {
     "cell_type": "code",
     "collapsed": false,
     "input": [
      "print(d.keys())"
     ],
     "language": "python",
     "metadata": {},
     "outputs": [
      {
       "output_type": "stream",
       "stream": "stdout",
       "text": [
        "[1, 'key']\n"
       ]
      }
     ],
     "prompt_number": 6
    },
    {
     "cell_type": "code",
     "collapsed": false,
     "input": [
      "print(d.values())"
     ],
     "language": "python",
     "metadata": {},
     "outputs": [
      {
       "output_type": "stream",
       "stream": "stdout",
       "text": [
        "['d', 'value']\n"
       ]
      }
     ],
     "prompt_number": 7
    },
    {
     "cell_type": "code",
     "collapsed": false,
     "input": [
      "e = d[\"key\"]\n",
      "print(e)"
     ],
     "language": "python",
     "metadata": {},
     "outputs": [
      {
       "output_type": "stream",
       "stream": "stdout",
       "text": [
        "value\n"
       ]
      }
     ],
     "prompt_number": 8
    },
    {
     "cell_type": "code",
     "collapsed": false,
     "input": [
      "\"key\" in d"
     ],
     "language": "python",
     "metadata": {},
     "outputs": [
      {
       "metadata": {},
       "output_type": "pyout",
       "prompt_number": 9,
       "text": [
        "True"
       ]
      }
     ],
     "prompt_number": 9
    },
    {
     "cell_type": "code",
     "collapsed": false,
     "input": [
      "\"no key\" in d"
     ],
     "language": "python",
     "metadata": {},
     "outputs": [
      {
       "metadata": {},
       "output_type": "pyout",
       "prompt_number": 10,
       "text": [
        "False"
       ]
      }
     ],
     "prompt_number": 10
    },
    {
     "cell_type": "code",
     "collapsed": false,
     "input": [
      "f = None\n",
      "print(\"f\", f, type(f))"
     ],
     "language": "python",
     "metadata": {},
     "outputs": [
      {
       "output_type": "stream",
       "stream": "stdout",
       "text": [
        "('f', None, <type 'NoneType'>)\n"
       ]
      }
     ],
     "prompt_number": 11
    },
    {
     "cell_type": "code",
     "collapsed": false,
     "input": [
      "f is None"
     ],
     "language": "python",
     "metadata": {},
     "outputs": [
      {
       "metadata": {},
       "output_type": "pyout",
       "prompt_number": 12,
       "text": [
        "True"
       ]
      }
     ],
     "prompt_number": 12
    },
    {
     "cell_type": "code",
     "collapsed": false,
     "input": [
      "g = False or True\n",
      "print(\"g\", g, type(g))"
     ],
     "language": "python",
     "metadata": {},
     "outputs": [
      {
       "output_type": "stream",
       "stream": "stdout",
       "text": [
        "('g', True, <type 'bool'>)\n"
       ]
      }
     ],
     "prompt_number": 13
    },
    {
     "cell_type": "heading",
     "level": 2,
     "metadata": {},
     "source": [
      "Iterators"
     ]
    },
    {
     "cell_type": "markdown",
     "metadata": {},
     "source": [
      "Iterators are an important concept in Python!"
     ]
    },
    {
     "cell_type": "code",
     "collapsed": false,
     "input": [
      "range(5)"
     ],
     "language": "python",
     "metadata": {},
     "outputs": [
      {
       "metadata": {},
       "output_type": "pyout",
       "prompt_number": 14,
       "text": [
        "[0, 1, 2, 3, 4]"
       ]
      }
     ],
     "prompt_number": 14
    },
    {
     "cell_type": "code",
     "collapsed": false,
     "input": [
      "range(2, 10, 2)"
     ],
     "language": "python",
     "metadata": {},
     "outputs": [
      {
       "metadata": {},
       "output_type": "pyout",
       "prompt_number": 15,
       "text": [
        "[2, 4, 6, 8]"
       ]
      }
     ],
     "prompt_number": 15
    },
    {
     "cell_type": "code",
     "collapsed": false,
     "input": [
      "list(enumerate(range(2, 10, 2)))"
     ],
     "language": "python",
     "metadata": {},
     "outputs": [
      {
       "metadata": {},
       "output_type": "pyout",
       "prompt_number": 16,
       "text": [
        "[(0, 2), (1, 4), (2, 6), (3, 8)]"
       ]
      }
     ],
     "prompt_number": 16
    },
    {
     "cell_type": "code",
     "collapsed": false,
     "input": [
      "list(zip(range(5), range(2, 7)))"
     ],
     "language": "python",
     "metadata": {},
     "outputs": [
      {
       "metadata": {},
       "output_type": "pyout",
       "prompt_number": 17,
       "text": [
        "[(0, 2), (1, 3), (2, 4), (3, 5), (4, 6)]"
       ]
      }
     ],
     "prompt_number": 17
    },
    {
     "cell_type": "heading",
     "level": 2,
     "metadata": {},
     "source": [
      "Conditional Statements"
     ]
    },
    {
     "cell_type": "code",
     "collapsed": false,
     "input": [
      "if f is None or g and a > c[0]:\n",
      "    print(\"Hello\")\n",
      "else:\n",
      "    print(\"Yeaha!\")"
     ],
     "language": "python",
     "metadata": {},
     "outputs": [
      {
       "output_type": "stream",
       "stream": "stdout",
       "text": [
        "Hello\n"
       ]
      }
     ],
     "prompt_number": 18
    },
    {
     "cell_type": "markdown",
     "metadata": {},
     "source": [
      "There is not switch or case!"
     ]
    },
    {
     "cell_type": "heading",
     "level": 2,
     "metadata": {},
     "source": [
      "Loops"
     ]
    },
    {
     "cell_type": "code",
     "collapsed": false,
     "input": [
      "i = 0\n",
      "while i < 3:\n",
      "    print(i)\n",
      "    i += 1"
     ],
     "language": "python",
     "metadata": {},
     "outputs": [
      {
       "output_type": "stream",
       "stream": "stdout",
       "text": [
        "0\n",
        "1\n",
        "2\n"
       ]
      }
     ],
     "prompt_number": 19
    },
    {
     "cell_type": "markdown",
     "metadata": {},
     "source": [
      "All for loops are **for-each** loops in Python!"
     ]
    },
    {
     "cell_type": "code",
     "collapsed": false,
     "input": [
      "for i in range(3):\n",
      "    print(i)"
     ],
     "language": "python",
     "metadata": {},
     "outputs": [
      {
       "output_type": "stream",
       "stream": "stdout",
       "text": [
        "0\n",
        "1\n",
        "2\n"
       ]
      }
     ],
     "prompt_number": 20
    },
    {
     "cell_type": "code",
     "collapsed": false,
     "input": [
      "for i, s in enumerate([\"a\", \"b\", \"c\"]):\n",
      "    print(i, s)"
     ],
     "language": "python",
     "metadata": {},
     "outputs": [
      {
       "output_type": "stream",
       "stream": "stdout",
       "text": [
        "(0, 'a')\n",
        "(1, 'b')\n",
        "(2, 'c')\n"
       ]
      }
     ],
     "prompt_number": 21
    },
    {
     "cell_type": "heading",
     "level": 2,
     "metadata": {},
     "source": [
      "Functions"
     ]
    },
    {
     "cell_type": "code",
     "collapsed": false,
     "input": [
      "def my_fun(a, b=None):\n",
      "    \"\"\"This is a docstring.\n",
      "\n",
      "    b is an optional argument.\n",
      "    \"\"\"\n",
      "    if a and b is not None:\n",
      "        print(\"Yeaha!\")"
     ],
     "language": "python",
     "metadata": {},
     "outputs": [],
     "prompt_number": 22
    },
    {
     "cell_type": "code",
     "collapsed": false,
     "input": [
      "my_lambda_fun = lambda x: x ** 2"
     ],
     "language": "python",
     "metadata": {},
     "outputs": [],
     "prompt_number": 23
    },
    {
     "cell_type": "heading",
     "level": 2,
     "metadata": {},
     "source": [
      "Classes"
     ]
    },
    {
     "cell_type": "code",
     "collapsed": false,
     "input": [
      "class A(object):\n",
      "    def __init__(self, a):\n",
      "        self.a = a\n",
      "\n",
      "    def print_me(self):\n",
      "        print(self.a)\n",
      "\n",
      "class B(A):\n",
      "    def __init__(self):\n",
      "        super(B, self).__init__(\"B\")  # Call constructor of A\n",
      "\n",
      "b = B()\n",
      "b.print_me()"
     ],
     "language": "python",
     "metadata": {},
     "outputs": [
      {
       "output_type": "stream",
       "stream": "stdout",
       "text": [
        "B\n"
       ]
      }
     ],
     "prompt_number": 24
    },
    {
     "cell_type": "markdown",
     "metadata": {},
     "source": [
      "There are usually two reasons to inherit from some superclass `A`:\n",
      "\n",
      "* To reuse code from the superclass `A` in its subclass `B`\n",
      "* To be able to use some function `my_fun` for all subclasses of `A`; **This is not required in Python because the type system is dynamic!**\n",
      "\n",
      "Duck typing:\n",
      "\n",
      "\"When I see a bird that walks like a duck and swims like a duck and quacks like a duck, I call that bird a duck.\""
     ]
    },
    {
     "cell_type": "code",
     "collapsed": false,
     "input": [
      "def my_fun(a):\n",
      "    return a * a\n",
      "\n",
      "print(my_fun(2))\n",
      "print(my_fun(np.array([2, 3, 4])))"
     ],
     "language": "python",
     "metadata": {},
     "outputs": [
      {
       "output_type": "stream",
       "stream": "stdout",
       "text": [
        "4\n",
        "[ 4  9 16]\n"
       ]
      }
     ],
     "prompt_number": 25
    },
    {
     "cell_type": "code",
     "collapsed": false,
     "input": [
      "try:\n",
      "    print(my_fun(\"A\"))\n",
      "except TypeError as e:\n",
      "    print(e)"
     ],
     "language": "python",
     "metadata": {},
     "outputs": [
      {
       "output_type": "stream",
       "stream": "stdout",
       "text": [
        "can't multiply sequence by non-int of type 'str'\n"
       ]
      }
     ],
     "prompt_number": 26
    },
    {
     "cell_type": "heading",
     "level": 2,
     "metadata": {},
     "source": [
      "Functional"
     ]
    },
    {
     "cell_type": "code",
     "collapsed": false,
     "input": [
      "x = my_fun\n",
      "\n",
      "y = map(x, [1, 2, 3])\n",
      "print(y)\n",
      "z = filter(lambda arg: arg <= 8, y)\n",
      "print(z)\n",
      "res = reduce(lambda a, b: a + b, z, 0)\n",
      "print(res)"
     ],
     "language": "python",
     "metadata": {},
     "outputs": [
      {
       "output_type": "stream",
       "stream": "stdout",
       "text": [
        "[1, 4, 9]\n",
        "[1, 4]\n",
        "5\n"
       ]
      }
     ],
     "prompt_number": 27
    },
    {
     "cell_type": "heading",
     "level": 2,
     "metadata": {},
     "source": [
      "Comprehensions"
     ]
    },
    {
     "cell_type": "markdown",
     "metadata": {},
     "source": [
      "Be careful, don't use them too often."
     ]
    },
    {
     "cell_type": "code",
     "collapsed": false,
     "input": [
      "[x ** 2 for x in range(10)]"
     ],
     "language": "python",
     "metadata": {},
     "outputs": [
      {
       "metadata": {},
       "output_type": "pyout",
       "prompt_number": 28,
       "text": [
        "[0, 1, 4, 9, 16, 25, 36, 49, 64, 81]"
       ]
      }
     ],
     "prompt_number": 28
    },
    {
     "cell_type": "code",
     "collapsed": false,
     "input": [
      "[x ** 2 for x in range(10) if x % 3 == 0]"
     ],
     "language": "python",
     "metadata": {},
     "outputs": [
      {
       "metadata": {},
       "output_type": "pyout",
       "prompt_number": 29,
       "text": [
        "[0, 9, 36, 81]"
       ]
      }
     ],
     "prompt_number": 29
    },
    {
     "cell_type": "code",
     "collapsed": false,
     "input": [
      "{str(x): x ** 2 for x in range(10)}"
     ],
     "language": "python",
     "metadata": {},
     "outputs": [
      {
       "metadata": {},
       "output_type": "pyout",
       "prompt_number": 30,
       "text": [
        "{'0': 0,\n",
        " '1': 1,\n",
        " '2': 4,\n",
        " '3': 9,\n",
        " '4': 16,\n",
        " '5': 25,\n",
        " '6': 36,\n",
        " '7': 49,\n",
        " '8': 64,\n",
        " '9': 81}"
       ]
      }
     ],
     "prompt_number": 30
    },
    {
     "cell_type": "heading",
     "level": 2,
     "metadata": {},
     "source": [
      "Format Strings"
     ]
    },
    {
     "cell_type": "code",
     "collapsed": false,
     "input": [
      "print(\"%g - %g - %g%%: %s bla bla; %r\" % (2.4123e-32, 0.34, 1, \"bla\", None))"
     ],
     "language": "python",
     "metadata": {},
     "outputs": [
      {
       "output_type": "stream",
       "stream": "stdout",
       "text": [
        "2.4123e-32 - 0.34 - 1%: bla bla bla; None\n"
       ]
      }
     ],
     "prompt_number": 31
    },
    {
     "cell_type": "heading",
     "level": 2,
     "metadata": {},
     "source": [
      "Any Questions?"
     ]
    },
    {
     "cell_type": "markdown",
     "metadata": {},
     "source": [
      "* [Official documentation](https://docs.python.org/2/)\n",
      "* **[Python Scientific Lecture Notes](https://scipy-lectures.github.io/)**\n",
      "* http://stackoverflow.com\n",
      "* http://www.google.com ;)\n",
      "* Send us an email"
     ]
    }
   ],
   "metadata": {}
  }
 ]
}