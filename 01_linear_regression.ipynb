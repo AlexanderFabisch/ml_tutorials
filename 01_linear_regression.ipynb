{
 "metadata": {
  "celltoolbar": "Slideshow",
  "name": ""
 },
 "nbformat": 3,
 "nbformat_minor": 0,
 "worksheets": [
  {
   "cells": [
    {
     "cell_type": "heading",
     "level": 1,
     "metadata": {
      "slideshow": {
       "slide_type": "slide"
      }
     },
     "source": [
      "Linear Regression"
     ]
    },
    {
     "cell_type": "heading",
     "level": 2,
     "metadata": {
      "slideshow": {
       "align_type": "Left",
       "slide_type": "slide"
      }
     },
     "source": [
      "Application of the Week: Imitation Learning with Dynamical Movement Primitives and Linear Regression"
     ]
    },
    {
     "cell_type": "markdown",
     "metadata": {
      "slideshow": {
       "align_type": "Left",
       "slide_type": "fragment"
      }
     },
     "source": [
      "Dynamical Movement Primitives (DMPs) are trajectory representations that\n",
      "\n",
      "* are goal-directed\n",
      "* are robust to perturbations and noise (like potential fields)\n",
      "* are arbitrarily shapeable\n",
      "* can be scaled and translated arbitrarily, even online\n",
      "* are parametrized policy representations that can be used for reinforcement learning\n",
      "* can be used for imitation learning\n",
      "\n",
      "DMPs consist of superimposed movements:\n",
      "\n",
      "* a goal-directed movement\n",
      "* an arbitrarily shapeable \"forcing term\"\n",
      "* obstacle avoidance\n"
     ]
    },
    {
     "cell_type": "markdown",
     "metadata": {
      "slideshow": {
       "align_type": "Left",
       "slide_type": "slide"
      }
     },
     "source": [
      "![Superimposed Movements](files/01_linear_regression/potential_field.svg)\n",
      "\n",
      "The forcing term can be learned from demonstrations (e.g. from human demonstrations) by linear regression.\n"
     ]
    },
    {
     "cell_type": "markdown",
     "metadata": {
      "slideshow": {
       "align_type": "Left",
       "slide_type": "slide"
      }
     },
     "source": [
      "![Imitation Learning](files/01_linear_regression/imitation.svg)"
     ]
    },
    {
     "cell_type": "heading",
     "level": 2,
     "metadata": {
      "slideshow": {
       "align_type": "Left",
       "slide_type": "slide"
      }
     },
     "source": [
      "k-Fold Cross-Validation"
     ]
    },
    {
     "cell_type": "code",
     "collapsed": false,
     "input": [
      "from IPython.display import HTML\n",
      "HTML('<iframe src=http://en.wikipedia.org/wiki/Cross-validation_%28statistics%29?useformat=mobile width=700 height=350></iframe>')"
     ],
     "language": "python",
     "metadata": {
      "slideshow": {
       "align_type": "Left",
       "slide_type": "fragment"
      }
     },
     "outputs": [
      {
       "html": [
        "<iframe src=http://en.wikipedia.org/wiki/Cross-validation_%28statistics%29?useformat=mobile width=700 height=350></iframe>"
       ],
       "metadata": {},
       "output_type": "pyout",
       "prompt_number": 1,
       "text": [
        "<IPython.core.display.HTML at 0x1c5abd0>"
       ]
      }
     ],
     "prompt_number": 1
    },
    {
     "cell_type": "code",
     "collapsed": false,
     "input": [
      "# Enable inline plots\n",
      "%pylab inline\n",
      "# Fix seed for random number generator to make the results repeatable\n",
      "random.seed(0)\n",
      "# Pretty matrix outputs\n",
      "numpy.set_printoptions(precision=3, threshold=1000, edgeitems=5, linewidth=80, suppress=True)\n",
      "\n",
      "# Utility functions\n",
      "def build_sinusoidal(n_degree, w):\n",
      "    from itertools import chain\n",
      "    # That does not look readable but it works :)\n",
      "    return (((\"%+.2f \\sin(%d /\" + str(n_degree) + \" \\pi x)\") * (n_degree+1)) % tuple(chain(*zip(w, range(n_degree+1)))))"
     ],
     "language": "python",
     "metadata": {
      "slideshow": {
       "align_type": "Left",
       "slide_type": "slide"
      }
     },
     "outputs": [
      {
       "output_type": "stream",
       "stream": "stdout",
       "text": [
        "Populating the interactive namespace from numpy and matplotlib\n"
       ]
      }
     ],
     "prompt_number": 2
    },
    {
     "cell_type": "heading",
     "level": 2,
     "metadata": {
      "slideshow": {
       "align_type": "Left",
       "slide_type": "slide"
      }
     },
     "source": [
      "Linear Regression"
     ]
    },
    {
     "cell_type": "markdown",
     "metadata": {
      "slideshow": {
       "align_type": "Left",
       "slide_type": "fragment"
      }
     },
     "source": [
      "* We have a training set $T = \\{(x^{(n)}, y^{(n)}) | n \\in \\{1, \\ldots, N\\}\\}$ of\n"
     ]
    },
    {
     "cell_type": "markdown",
     "metadata": {
      "slideshow": {
       "align_type": "Left",
       "slide_type": "fragment"
      }
     },
     "source": [
      "* samples drawn from an **unknown** function $f: \\mathbb{R}^D \\rightarrow \\mathbb{R}$\n"
     ]
    },
    {
     "cell_type": "markdown",
     "metadata": {
      "slideshow": {
       "align_type": "Left",
       "slide_type": "fragment"
      }
     },
     "source": [
      "* with additional Gaussian noise.\n"
     ]
    },
    {
     "cell_type": "markdown",
     "metadata": {
      "slideshow": {
       "align_type": "Left",
       "slide_type": "fragment"
      }
     },
     "source": [
      "* $x^{(n)}$ is an input of the unknown function.\n"
     ]
    },
    {
     "cell_type": "markdown",
     "metadata": {
      "slideshow": {
       "align_type": "Left",
       "slide_type": "fragment"
      }
     },
     "source": [
      "* $y^{(n)}$ is the corresponding desired output (target).\n"
     ]
    },
    {
     "cell_type": "markdown",
     "metadata": {
      "slideshow": {
       "align_type": "Left",
       "slide_type": "fragment"
      }
     },
     "source": [
      "* We want to estimate the mapping."
     ]
    },
    {
     "cell_type": "heading",
     "level": 3,
     "metadata": {
      "slideshow": {
       "align_type": "Left",
       "slide_type": "slide"
      }
     },
     "source": [
      "Example"
     ]
    },
    {
     "cell_type": "markdown",
     "metadata": {
      "slideshow": {
       "align_type": "Left",
       "slide_type": "fragment"
      }
     },
     "source": [
      "Dataset: line + noise"
     ]
    },
    {
     "cell_type": "code",
     "collapsed": false,
     "input": [
      "# Training set:\n",
      "N = 5                                           # Size of the data set\n",
      "X = linspace(0.0, 1.0, N).reshape((N, 1))       # Inputs, shape: N x 1\n",
      "y = linspace(7.0, -5.0, N) + 2*random.randn(N)  # Outputs, shape: N\n",
      "\n",
      "print(\"X =\")\n",
      "print(X)\n",
      "print(\"y =\")\n",
      "print(y)\n",
      "\n",
      "# Test set:\n",
      "N_test = 100\n",
      "X_test = linspace(0.0, 1.0, N_test).reshape((N_test, 1))\n",
      "y_test = linspace(7.0, -5.0, N_test) + 2*random.randn(N_test)"
     ],
     "language": "python",
     "metadata": {
      "slideshow": {
       "align_type": "Left",
       "slide_type": "fragment"
      }
     },
     "outputs": [
      {
       "output_type": "stream",
       "stream": "stdout",
       "text": [
        "X =\n",
        "[[ 0.  ]\n",
        " [ 0.25]\n",
        " [ 0.5 ]\n",
        " [ 0.75]\n",
        " [ 1.  ]]\n",
        "y =\n",
        "[ 10.528   4.8     2.957   2.482  -1.265]\n"
       ]
      }
     ],
     "prompt_number": 3
    },
    {
     "cell_type": "code",
     "collapsed": false,
     "input": [
      "plot(X[:, 0], y, \"o\")\n",
      "#plot(X_test[:, 0], y_test, \"o\")\n",
      "xlabel(\"x\")\n",
      "ylabel(\"y\")"
     ],
     "language": "python",
     "metadata": {
      "slideshow": {
       "align_type": "Left",
       "slide_type": "slide"
      }
     },
     "outputs": [
      {
       "metadata": {},
       "output_type": "pyout",
       "prompt_number": 4,
       "text": [
        "<matplotlib.text.Text at 0x2dea090>"
       ]
      },
      {
       "metadata": {},
       "output_type": "display_data",
       "png": "[encoded data removed]",
       "text": [
        "<matplotlib.figure.Figure at 0x1c57990>"
       ]
      }
     ],
     "prompt_number": 4
    },
    {
     "cell_type": "heading",
     "level": 2,
     "metadata": {
      "slideshow": {
       "align_type": "Left",
       "slide_type": "slide"
      }
     },
     "source": [
      "Linear Model"
     ]
    },
    {
     "cell_type": "markdown",
     "metadata": {
      "slideshow": {
       "align_type": "Left",
       "slide_type": "fragment"
      }
     },
     "source": [
      "* We can write our constraints down with a **linear** model: $$\\forall n \\in \\{1,\\ldots,N\\}:\\quad x^{(n)T} \\boldsymbol{w} = y^{(n)} + \\epsilon^{(n)},$$ where $\\boldsymbol{w}$ is a weight vector and $\\epsilon^{(n)} \\sim \\mathcal{N}(0, \\sigma^2)$.\n"
     ]
    },
    {
     "cell_type": "markdown",
     "metadata": {
      "slideshow": {
       "align_type": "Left",
       "slide_type": "fragment"
      }
     },
     "source": [
      "* Weights are parameters of the linear model that can be tuned to fit the training data better.\n"
     ]
    },
    {
     "cell_type": "markdown",
     "metadata": {
      "slideshow": {
       "align_type": "Left",
       "slide_type": "fragment"
      }
     },
     "source": [
      "* A shorter version of this expression is the following equation:\n",
      "$$\\boldsymbol{X} \\cdot \\boldsymbol{w} = \\boldsymbol{y} + \\boldsymbol{\\epsilon}, \\qquad \\boldsymbol{X} \\in \\mathbb{R}^{N \\times D}, \\boldsymbol{y} \\in \\mathbb{R}^N, \\boldsymbol{\\epsilon} \\in \\mathbb{R}^N, \\boldsymbol{w} \\in \\mathbb{R}^D,$$\n",
      "where the $n$-th **row** of $\\boldsymbol{X}$ represents $x^{(n)}$ and the $n$-th entry of the vector $\\boldsymbol{y}$ represents $y^{(n)}$.\n"
     ]
    },
    {
     "cell_type": "markdown",
     "metadata": {
      "slideshow": {
       "align_type": "Left",
       "slide_type": "fragment"
      }
     },
     "source": [
      "* It might not be possible to find a weight vector that satisfies the constraints perfectly. Instead, we can minimize the sum of squared errors (SSE): $$\\hat{\\boldsymbol{w}} = \\text{argmin}_\\boldsymbol{w} \\dfrac{1}{2}||\\boldsymbol{X}\\boldsymbol{w} - \\boldsymbol{y}||^2_2,$$ where $||\\boldsymbol{A}||_2$ is called [Frobenius norm](http://en.wikipedia.org/wiki/Matrix_norm#Frobenius_norm) and is the generalization of the Euclidean norm for matrices."
     ]
    },
    {
     "cell_type": "heading",
     "level": 2,
     "metadata": {
      "slideshow": {
       "align_type": "Left",
       "slide_type": "slide"
      }
     },
     "source": [
      "Learning Weights"
     ]
    },
    {
     "cell_type": "markdown",
     "metadata": {
      "slideshow": {
       "align_type": "Left",
       "slide_type": "fragment"
      }
     },
     "source": [
      "There are two ways to adjust the weights of a linear model (which includes linear models with nonlinear features):\n",
      "\n",
      "* **Normal equations** (analytical solution), requires inversion of $D \\times D$ matrix, i.e. does not scale well with the number of features\n",
      "* **Gradient descent** (iterative solution), requires the calculation of $N$ gradients in each step, i.e. does not scale well with the number of examples\n",
      "\n",
      "In addition, we can add a constraint to the objective function to penalize large weights:\n",
      "\n",
      "* **Tikhonov regularization**"
     ]
    },
    {
     "cell_type": "heading",
     "level": 2,
     "metadata": {
      "slideshow": {
       "align_type": "Left",
       "slide_type": "slide"
      }
     },
     "source": [
      "Normal Equations"
     ]
    },
    {
     "cell_type": "markdown",
     "metadata": {
      "slideshow": {
       "align_type": "Left",
       "slide_type": "fragment"
      }
     },
     "source": [
      "Solving the equation $\\boldsymbol{X} \\cdot \\boldsymbol{w} = \\boldsymbol{y}$ directly for $\\boldsymbol{w}$ by inversion is not possible, because $\\boldsymbol{X}$ is not necessarily a square matrix, i.e. $\\boldsymbol{w} = \\boldsymbol{X}^{-1} \\boldsymbol{y}$ is usually not possible. In addition, it is usually not possible to find an exact solution. Instead, we find the [least squares](http://en.wikipedia.org/wiki/Linear_least_squares_%28mathematics%29) solution, which is the solution of\n",
      "\n",
      "$$\\boldsymbol{X}^T\\boldsymbol{X} \\hat{\\boldsymbol{w}} = \\boldsymbol{X}^T\\boldsymbol{y}$$\n",
      "\n",
      "for $\\hat{\\boldsymbol{w}}$, i.e.\n",
      "\n",
      "$$\\hat{\\boldsymbol{w}} = (\\boldsymbol{X}^T\\boldsymbol{X})^{-1}\\boldsymbol{X}^T\\boldsymbol{y}$$\n",
      "\n",
      "*Hint:* The expression $(\\boldsymbol{X}^T\\boldsymbol{X})^{-1}\\boldsymbol{X}^T$ is equivalent to the [Moore-Penrose pseudoinverse](http://en.wikipedia.org/wiki/Moore%E2%80%93Penrose_pseudoinverse) $\\boldsymbol{X}^+$ of $\\boldsymbol{X}$. It is a generalization of the inverse for non-square matrices. You can use this to implement normal equations if your library provides the function. You could also use a least squares solver (e.g. numpy.linalg.lstsq or dgelsd/zgelsd from LAPACK)."
     ]
    },
    {
     "cell_type": "code",
     "collapsed": false,
     "input": [
      "def normal_equations(X, y):\n",
      "    #w = linalg.inv(X.T.dot(X)).dot(X.T).dot(y)\n",
      "    # ... or we can use the Moore-Penrose pseudoinverse (is usually more likely to be numerically stable)\n",
      "    #w = linalg.pinv(X).dot(y)\n",
      "    # ... or we use the solver\n",
      "    w = linalg.lstsq(X, y)[0]\n",
      "    return w\n",
      "\n",
      "# Add bias to each row/instance:\n",
      "# x11 x12 ...          x11 x12 ... 1\n",
      "# x21 x22 ...   --->   x21 x22 ... 1\n",
      "# .                    .\n",
      "# .                    .\n",
      "# .                    .\n",
      "X_bias = hstack((X, ones((N, 1))))\n",
      "X_test_bias = hstack((X_test, ones((N_test, 1))))\n",
      "w = normal_equations(X_bias, y)"
     ],
     "language": "python",
     "metadata": {
      "slideshow": {
       "align_type": "Left",
       "slide_type": "slide"
      }
     },
     "outputs": [],
     "prompt_number": 5
    },
    {
     "cell_type": "code",
     "collapsed": false,
     "input": [
      "plot(X_bias[:, 0], y, \"o\")\n",
      "plot(X_bias[:, 0], X_bias.dot(w), \"-\", linewidth=3)\n",
      "xlabel(\"x\")\n",
      "ylabel(\"y\")\n",
      "title(\"Model: $y = %.2f x + %.2f$\" % tuple(w))"
     ],
     "language": "python",
     "metadata": {
      "slideshow": {
       "align_type": "Left",
       "slide_type": "slide"
      }
     },
     "outputs": [
      {
       "metadata": {},
       "output_type": "pyout",
       "prompt_number": 6,
       "text": [
        "<matplotlib.text.Text at 0x2f0fed0>"
       ]
      },
      {
       "metadata": {},
       "output_type": "display_data",
       "png": "[encoded data removed]",
       "text": [
        "<matplotlib.figure.Figure at 0x2deb990>"
       ]
      }
     ],
     "prompt_number": 6
    },
    {
     "cell_type": "heading",
     "level": 2,
     "metadata": {
      "slideshow": {
       "align_type": "Left",
       "slide_type": "slide"
      }
     },
     "source": [
      "Normal Equations - Step by Step"
     ]
    },
    {
     "cell_type": "markdown",
     "metadata": {
      "slideshow": {
       "align_type": "Left",
       "slide_type": "fragment"
      }
     },
     "source": [
      "In the exercises you have to write down\n",
      "\n",
      "* $\\boldsymbol{X}$ (extended with bias) and $\\boldsymbol{y}$\n",
      "* $\\boldsymbol{X}^T \\boldsymbol{X}$\n",
      "* $(\\boldsymbol{X}^T \\boldsymbol{X})^{-1}$\n",
      "* $(\\boldsymbol{X}^T \\boldsymbol{X})^{-1} \\boldsymbol{X}^T$\n",
      "* $\\hat{\\boldsymbol{w}} = (\\boldsymbol{X}^T \\boldsymbol{y})^{-1} \\boldsymbol{X}^T \\boldsymbol{y}$\n",
      "\n",
      "*Hint:* [Inverse of a 2x2 matrix](http://en.wikipedia.org/wiki/Invertible_matrix#Inversion_of_2.C3.972_matrices)\n"
     ]
    },
    {
     "cell_type": "code",
     "collapsed": false,
     "input": [
      "print \"X =\"\n",
      "print X_bias\n",
      "print \"y =\"\n",
      "print y"
     ],
     "language": "python",
     "metadata": {
      "slideshow": {
       "align_type": "Left",
       "slide_type": "slide"
      }
     },
     "outputs": [
      {
       "output_type": "stream",
       "stream": "stdout",
       "text": [
        "X =\n",
        "[[ 0.    1.  ]\n",
        " [ 0.25  1.  ]\n",
        " [ 0.5   1.  ]\n",
        " [ 0.75  1.  ]\n",
        " [ 1.    1.  ]]\n",
        "y =\n",
        "[ 10.528   4.8     2.957   2.482  -1.265]\n"
       ]
      }
     ],
     "prompt_number": 7
    },
    {
     "cell_type": "code",
     "collapsed": false,
     "input": [
      "print \"X^T X =\"\n",
      "print X_bias.T.dot(X_bias)"
     ],
     "language": "python",
     "metadata": {
      "slideshow": {
       "align_type": "Left",
       "slide_type": "slide"
      }
     },
     "outputs": [
      {
       "output_type": "stream",
       "stream": "stdout",
       "text": [
        "X^T X =\n",
        "[[ 1.875  2.5  ]\n",
        " [ 2.5    5.   ]]\n"
       ]
      }
     ],
     "prompt_number": 8
    },
    {
     "cell_type": "code",
     "collapsed": false,
     "input": [
      "print \"(X^T X)^{-1} =\"\n",
      "print linalg.inv(X_bias.T.dot(X_bias))"
     ],
     "language": "python",
     "metadata": {
      "slideshow": {
       "align_type": "Left",
       "slide_type": "slide"
      }
     },
     "outputs": [
      {
       "output_type": "stream",
       "stream": "stdout",
       "text": [
        "(X^T X)^{-1} =\n",
        "[[ 1.6 -0.8]\n",
        " [-0.8  0.6]]\n"
       ]
      }
     ],
     "prompt_number": 9
    },
    {
     "cell_type": "code",
     "collapsed": false,
     "input": [
      "print \"(X^T X)^{-1} X^T =\"\n",
      "print linalg.inv(X_bias.T.dot(X_bias)).dot(X_bias.T)"
     ],
     "language": "python",
     "metadata": {
      "slideshow": {
       "align_type": "Left",
       "slide_type": "slide"
      }
     },
     "outputs": [
      {
       "output_type": "stream",
       "stream": "stdout",
       "text": [
        "(X^T X)^{-1} X^T =\n",
        "[[-0.8 -0.4  0.   0.4  0.8]\n",
        " [ 0.6  0.4  0.2 -0.  -0.2]]\n"
       ]
      }
     ],
     "prompt_number": 10
    },
    {
     "cell_type": "code",
     "collapsed": false,
     "input": [
      "print \"w = (X^T X)^{-1} X^T y =\"\n",
      "print linalg.inv(X_bias.T.dot(X_bias)).dot(X_bias.T).dot(y)"
     ],
     "language": "python",
     "metadata": {
      "slideshow": {
       "align_type": "Left",
       "slide_type": "slide"
      }
     },
     "outputs": [
      {
       "output_type": "stream",
       "stream": "stdout",
       "text": [
        "w = (X^T X)^{-1} X^T y =\n",
        "[-10.362   9.081]\n"
       ]
      }
     ],
     "prompt_number": 11
    },
    {
     "cell_type": "heading",
     "level": 2,
     "metadata": {
      "slideshow": {
       "align_type": "Left",
       "slide_type": "slide"
      }
     },
     "source": [
      "Question 1"
     ]
    },
    {
     "cell_type": "markdown",
     "metadata": {
      "slideshow": {
       "align_type": "Left",
       "slide_type": "fragment"
      }
     },
     "source": [
      "* inputs: 100 images of size 256x256 pixels\n",
      "* output: radius of the ball which is at the center of the image\n",
      "* Is the direct solution via normal equations the fastest solution?"
     ]
    },
    {
     "cell_type": "heading",
     "level": 2,
     "metadata": {
      "slideshow": {
       "align_type": "Left",
       "slide_type": "slide"
      }
     },
     "source": [
      "Answer 1"
     ]
    },
    {
     "cell_type": "code",
     "collapsed": false,
     "input": [
      "n_pixels = 256 * 256\n",
      "memory_size_xtx = n_pixels * n_pixels * 64/8\n",
      "print \"%d GiB\" % (memory_size_xtx / 2**30)"
     ],
     "language": "python",
     "metadata": {
      "slideshow": {
       "align_type": "Left",
       "slide_type": "fragment"
      }
     },
     "outputs": [
      {
       "output_type": "stream",
       "stream": "stdout",
       "text": [
        "32 GiB\n"
       ]
      }
     ],
     "prompt_number": 12
    },
    {
     "cell_type": "markdown",
     "metadata": {
      "slideshow": {
       "align_type": "Left",
       "slide_type": "fragment"
      }
     },
     "source": [
      "Inversion is an operation that requires $O(n^{2.373})$ operations ([Source](http://en.wikipedia.org/wiki/Computational_complexity_of_mathematical_operations))."
     ]
    },
    {
     "cell_type": "heading",
     "level": 2,
     "metadata": {
      "slideshow": {
       "align_type": "Left",
       "slide_type": "slide"
      }
     },
     "source": [
      "Gradient Descent"
     ]
    },
    {
     "cell_type": "markdown",
     "metadata": {
      "slideshow": {
       "align_type": "Left",
       "slide_type": "fragment"
      }
     },
     "source": [
      "Update $\\boldsymbol{w}_t$ incrementally:\n",
      "\n",
      "$$\\boldsymbol{w}_{t+1} = \\boldsymbol{w}_t - \\alpha \\nabla \\boldsymbol{w}_t,$$\n",
      "\n",
      "where\n",
      "\n",
      "* $\\alpha$ is a hyperparameter called \"learning rate\", it has to be set manually and must usually be within $]0, 1[$, typical values are 10e-1, 10e-2, 10e-3, ...\n",
      "* $\\nabla \\boldsymbol{w}_t$ is the **gradient** of $\\boldsymbol{w}_t$, i.e. the $i$-th entry of $\\Delta \\boldsymbol{w}_t$ is the derivative of the error function $E(\\boldsymbol{X}, \\boldsymbol{y};\\boldsymbol{w}_t)$ with respect to the weight $w_i$: $$\\Delta {\\boldsymbol{w}_t}_i = \\frac{\\partial E(\\boldsymbol{X}, \\boldsymbol{y};\\boldsymbol{w}_t)}{\\partial {w_t}_i}$$\n",
      "\n",
      "Gradient descent actually is a more general rule that can be applied to any minimization problem if the gradient can be computed (e.g. for artificial neural networks, support vector machines, k-means, ...)."
     ]
    },
    {
     "cell_type": "heading",
     "level": 2,
     "metadata": {
      "slideshow": {
       "align_type": "Left",
       "slide_type": "slide"
      }
     },
     "source": [
      "Gradient of the Linear Model"
     ]
    },
    {
     "cell_type": "markdown",
     "metadata": {
      "slideshow": {
       "align_type": "Left",
       "slide_type": "fragment"
      }
     },
     "source": [
      "Error function: sum of squared errors (SSE)\n",
      "$$E(\\boldsymbol{X}, \\boldsymbol{y};\\boldsymbol{w}) = \\frac{1}{2}||\\boldsymbol{X} \\cdot \\boldsymbol{w} - \\boldsymbol{y}||^2_2$$\n",
      "\n",
      "Gradient\n",
      "$$\\nabla \\boldsymbol{w} = \\nabla_{\\boldsymbol{w}} E(\\boldsymbol{X}, \\boldsymbol{y};\\boldsymbol{w}) = \\boldsymbol{X}^T \\cdot (\\boldsymbol{X} \\cdot \\boldsymbol{w} - \\boldsymbol{y})$$"
     ]
    },
    {
     "cell_type": "code",
     "collapsed": false,
     "input": [
      "def gradient(X, y, w):\n",
      "    return X.T.dot(X.dot(w) - y)\n",
      "\n",
      "def gradient_descent(X, y, w0, alpha, n_iterations):\n",
      "    w = w0.copy()\n",
      "    history = []\n",
      "    for _ in xrange(n_iterations):\n",
      "        w -= alpha * gradient(X, y, w) # Gradient descent update\n",
      "        history.append(w.copy())\n",
      "    return w, history\n",
      "\n",
      "w, history = gradient_descent(X_bias, y, w0=numpy.zeros(2), alpha=0.1, n_iterations=100)"
     ],
     "language": "python",
     "metadata": {
      "slideshow": {
       "align_type": "Left",
       "slide_type": "slide"
      }
     },
     "outputs": [],
     "prompt_number": 13
    },
    {
     "cell_type": "code",
     "collapsed": false,
     "input": [
      "plot(X_bias[:, 0], y, \"o\")\n",
      "plot(X_bias[:, 0], X_bias.dot(w), \"-\", linewidth=3)\n",
      "for i in xrange(0, len(history), 20):\n",
      "    plot(X_bias[:, 0], X_bias.dot(history[i]), \"-\", linewidth=3)\n",
      "xlabel(\"x\")\n",
      "ylabel(\"y\")\n",
      "title(\"Model: $y = %.2f x + %.2f$\" % tuple(w))"
     ],
     "language": "python",
     "metadata": {
      "slideshow": {
       "align_type": "Left",
       "slide_type": "slide"
      }
     },
     "outputs": [
      {
       "metadata": {},
       "output_type": "pyout",
       "prompt_number": 14,
       "text": [
        "<matplotlib.text.Text at 0x33b4e50>"
       ]
      },
      {
       "metadata": {},
       "output_type": "display_data",
       "png": "[encoded data removed]",
       "text": [
        "<matplotlib.figure.Figure at 0x2df0f10>"
       ]
      }
     ],
     "prompt_number": 14
    },
    {
     "cell_type": "heading",
     "level": 2,
     "metadata": {
      "slideshow": {
       "align_type": "Left",
       "slide_type": "slide"
      }
     },
     "source": [
      "Question 2"
     ]
    },
    {
     "cell_type": "markdown",
     "metadata": {
      "slideshow": {
       "align_type": "Left",
       "slide_type": "fragment"
      }
     },
     "source": [
      "* Why don't we always choose a very small learning rate?\n",
      "* Your implementation of gradient descent oscillates between two error values. What could be the cause?"
     ]
    },
    {
     "cell_type": "heading",
     "level": 2,
     "metadata": {
      "slideshow": {
       "align_type": "Left",
       "slide_type": "slide"
      }
     },
     "source": [
      "Application of the Week: Learning Inverse Kinematics with Locally Weighted Projection Regression"
     ]
    },
    {
     "cell_type": "markdown",
     "metadata": {
      "slideshow": {
       "align_type": "Left",
       "slide_type": "fragment"
      }
     },
     "source": [
      "* Forward Kinematics (FK): mapping from current **joint angles** to **end-effector pose**\n",
      "* Inverse Kinematics (IK): mapping from desired **end-effector pose** to required **joint angles**"
     ]
    },
    {
     "cell_type": "heading",
     "level": 3,
     "metadata": {
      "slideshow": {
       "align_type": "Left",
       "slide_type": "slide"
      }
     },
     "source": [
      "Learning IK"
     ]
    },
    {
     "cell_type": "markdown",
     "metadata": {
      "slideshow": {
       "align_type": "Left",
       "slide_type": "fragment"
      }
     },
     "source": [
      "* Inverse (Velocity) Kinematics is the mapping $(\\dot{\\boldsymbol{x}}, \\boldsymbol{\\theta}) \\rightarrow \\dot{\\boldsymbol{\\theta}}$, where\n",
      "    * $\\dot{\\boldsymbol{x}}$ is the desired velocity in task space (position and orientation)\n",
      "    * $\\boldsymbol{\\theta}$ are the current joint angles\n",
      "    * $\\dot{\\boldsymbol{\\theta}}$ is the required angular velocity of the joints\n",
      "* Problems\n",
      "    * Solution of IK is not unique with redundant DOFs\n",
      "    * Model of analytic solution can be inaccurate\n",
      "    * Analytic solution is very hard to determine\n",
      "* Paper: [Learning Inverse Kinematics](http://www-clmc.usc.edu/~adsouza/papers/dsouza-IROS2001.pdf)\n",
      "* Library: [LWPR](http://mloss.org/software/view/65/)"
     ]
    },
    {
     "cell_type": "heading",
     "level": 2,
     "metadata": {
      "slideshow": {
       "align_type": "Left",
       "slide_type": "slide"
      }
     },
     "source": [
      "Tikhonov Regularization"
     ]
    },
    {
     "cell_type": "markdown",
     "metadata": {
      "slideshow": {
       "align_type": "Left",
       "slide_type": "fragment"
      }
     },
     "source": [
      "* Linear least squares: $$\\hat{\\boldsymbol{w}} = \\text{argmin}_\\boldsymbol{w} \\dfrac{1}{2}||\\boldsymbol{X}\\boldsymbol{w} - \\boldsymbol{y}||^2_2$$\n",
      "* Linear least squares + Tikhonov Regularization: $$\\hat{\\boldsymbol{w}} = \\text{argmin}_\\boldsymbol{w} \\dfrac{1}{2}||\\boldsymbol{X}\\boldsymbol{w} - \\boldsymbol{y}||^2_2 + ||\\Gamma w||^2_2$$\n",
      "* In many cases, $\\boldsymbol{\\Gamma}$ is chosen to be diagonal, e.g. $\\boldsymbol{\\Gamma} = diag(\\gamma)$ for some $\\gamma \\in \\mathbb{R}$\n",
      "* For $\\gamma = 0$: Equal to (unregularized) linear least squares\n",
      "* For $\\gamma > 0$: Giving preference to solutions $w$ with smaller norms (stronger for larger $\\gamma$)\n",
      "* Normal equation solution: $$\\hat{\\boldsymbol{w}} = (\\boldsymbol{X}^T \\boldsymbol{X} + \\boldsymbol{\\Gamma}^T \\boldsymbol{\\Gamma})^{-1}\\boldsymbol{X}^T \\boldsymbol{y}$$"
     ]
    },
    {
     "cell_type": "heading",
     "level": 2,
     "metadata": {
      "slideshow": {
       "align_type": "Left",
       "slide_type": "slide"
      }
     },
     "source": [
      "Question 3"
     ]
    },
    {
     "cell_type": "markdown",
     "metadata": {
      "slideshow": {
       "align_type": "Left",
       "slide_type": "fragment"
      }
     },
     "source": [
      "* What is the effect of Tikhonov regularization?"
     ]
    },
    {
     "cell_type": "heading",
     "level": 2,
     "metadata": {
      "slideshow": {
       "align_type": "Left",
       "slide_type": "slide"
      }
     },
     "source": [
      "Answer 3"
     ]
    },
    {
     "cell_type": "markdown",
     "metadata": {
      "slideshow": {
       "align_type": "Left",
       "slide_type": "fragment"
      }
     },
     "source": [
      "* High $\\gamma$ will result in low model \"complexity\".\n",
      "* We use a **prior** $p(\\boldsymbol{w})$ for our possible models: Gaussian with mean $\\boldsymbol{0}$.\n",
      "* The learned model will be more general.\n",
      "* $\\boldsymbol{X}^T \\boldsymbol{X} + \\boldsymbol{\\Gamma}^T \\boldsymbol{\\Gamma}$ is better **conditioned** than $\\boldsymbol{X}^T \\boldsymbol{X}$ (and more likely to be invertible)."
     ]
    },
    {
     "cell_type": "code",
     "collapsed": false,
     "input": [
      "def tikhonov(X, y, gamma):\n",
      "    Gamma = numpy.eye(X.shape[1]) * gamma\n",
      "    w = linalg.pinv(X.T.dot(X) + Gamma.T.dot(Gamma)).dot(X.T).dot(y)\n",
      "    return w\n",
      "\n",
      "results = [(tikhonov(X_bias, y, gamma=gamma), gamma) for gamma in [0.0, 0.1, 0.5, 1.0, 5.0]]"
     ],
     "language": "python",
     "metadata": {
      "slideshow": {
       "align_type": "Left",
       "slide_type": "slide"
      }
     },
     "outputs": [],
     "prompt_number": 15
    },
    {
     "cell_type": "code",
     "collapsed": false,
     "input": [
      "plot(X_bias[:, 0], y, \"o\")\n",
      "for (w_reg, gamma) in results:\n",
      "    plot(X_bias[:, 0], X_bias.dot(w_reg), \"-\", linewidth=3, label=\"$\\gamma = %.2f$\" % gamma)\n",
      "xlabel(\"x\")\n",
      "ylabel(\"y\")\n",
      "legend(loc=\"best\")"
     ],
     "language": "python",
     "metadata": {
      "slideshow": {
       "align_type": "Left",
       "slide_type": "slide"
      }
     },
     "outputs": [
      {
       "metadata": {},
       "output_type": "pyout",
       "prompt_number": 16,
       "text": [
        "<matplotlib.legend.Legend at 0x33d7b10>"
       ]
      },
      {
       "metadata": {},
       "output_type": "display_data",
       "png": "[encoded data removed]",
       "text": [
        "<matplotlib.figure.Figure at 0x2f08210>"
       ]
      }
     ],
     "prompt_number": 16
    },
    {
     "cell_type": "heading",
     "level": 2,
     "metadata": {
      "slideshow": {
       "align_type": "Left",
       "slide_type": "slide"
      }
     },
     "source": [
      "Approximation of Nonlinear Functions (with a Linear Model)"
     ]
    },
    {
     "cell_type": "markdown",
     "metadata": {
      "slideshow": {
       "align_type": "Left",
       "slide_type": "fragment"
      }
     },
     "source": [
      "To approximate nonlinear funtions with a linear model, we have to generate **nonlinear features**. In this example, we generate **sinusoidal** features. You could also try radial basis functions, polynomials, ...\n",
      "\n",
      "We expand each feature $x$ to the nonlinear feature vector $(\\cos(\\frac{0}{d} \\pi x), \\cos(\\frac{1}{d} \\pi x), \\ldots, \\cos(\\frac{d}{d} \\pi x))^T$, where $d$ is the number of basis functions. Note that $\\cos \\left(\\frac{0}{D} \\pi x \\right)=1$ is the bias we added manually in the previous example."
     ]
    },
    {
     "cell_type": "code",
     "collapsed": false,
     "input": [
      "def sinusoidalize(X, n_degree):\n",
      "    X_sinusoidal = numpy.ndarray((len(X), n_degree+1))\n",
      "    for d in range(n_degree+1):\n",
      "        X_sinusoidal[:, d] = numpy.cos(X[:, 0] * numpy.pi * d / n_degree)\n",
      "    return X_sinusoidal\n",
      "\n",
      "n_degree = 4\n",
      "X_sinusoidal = sinusoidalize(X, n_degree=n_degree)\n",
      "X_test_sinusoidal = sinusoidalize(X_test, n_degree=n_degree)\n",
      "w_sin = normal_equations(X_sinusoidal, y)"
     ],
     "language": "python",
     "metadata": {
      "slideshow": {
       "align_type": "Left",
       "slide_type": "fragment"
      }
     },
     "outputs": [],
     "prompt_number": 17
    },
    {
     "cell_type": "code",
     "collapsed": false,
     "input": [
      "plot(X_bias[:, 0], y, \"o\")\n",
      "#plot(X_bias[:, 0], X_bias.dot(w), \"-\", linewidth=3) # Uncomment to compare with linear approximation\n",
      "plot(X_test_bias[:, 0], X_test_sinusoidal.dot(w_sin), \"-\", linewidth=3, color=\"r\")\n",
      "xlabel(\"x\")\n",
      "ylabel(\"y\")\n",
      "title(\"Model: $y = \" + build_sinusoidal(n_degree, w_sin) + \"$\")"
     ],
     "language": "python",
     "metadata": {
      "slideshow": {
       "align_type": "Left",
       "slide_type": "slide"
      }
     },
     "outputs": [
      {
       "metadata": {},
       "output_type": "pyout",
       "prompt_number": 18,
       "text": [
        "<matplotlib.text.Text at 0x3250690>"
       ]
      },
      {
       "metadata": {},
       "output_type": "display_data",
       "png": "[encoded data removed]",
       "text": [
        "<matplotlib.figure.Figure at 0x3228b10>"
       ]
      }
     ],
     "prompt_number": 18
    },
    {
     "cell_type": "code",
     "collapsed": false,
     "input": [
      "w_sin_regularized = tikhonov(X_sinusoidal, y, gamma=0.1)\n",
      "plot(X_bias[:, 0], y, \"o\")\n",
      "#plot(X_bias[:, 0], X_bias.dot(w), \"-\", linewidth=3) # Uncomment to compare with linear approximation\n",
      "plot(X_test_bias[:, 0], X_test_sinusoidal.dot(w_sin), \"-\", linewidth=3, color=\"r\")\n",
      "plot(X_test_bias[:, 0], X_test_sinusoidal.dot(w_sin_regularized), \"-\", linewidth=3, color=\"y\")\n",
      "xlabel(\"x\")\n",
      "ylabel(\"y\")\n",
      "title(\"Model: $y = \" + build_sinusoidal(n_degree, w_sin_regularized) + \"$\")"
     ],
     "language": "python",
     "metadata": {
      "slideshow": {
       "align_type": "Left",
       "slide_type": "slide"
      }
     },
     "outputs": [
      {
       "metadata": {},
       "output_type": "pyout",
       "prompt_number": 19,
       "text": [
        "<matplotlib.text.Text at 0x35e0050>"
       ]
      },
      {
       "metadata": {},
       "output_type": "display_data",
       "png": "[encoded data removed]",
       "text": [
        "<matplotlib.figure.Figure at 0x33f21d0>"
       ]
      }
     ],
     "prompt_number": 19
    },
    {
     "cell_type": "heading",
     "level": 2,
     "metadata": {
      "slideshow": {
       "align_type": "Left",
       "slide_type": "slide"
      }
     },
     "source": [
      "Question 4"
     ]
    },
    {
     "cell_type": "markdown",
     "metadata": {
      "slideshow": {
       "align_type": "Left",
       "slide_type": "fragment"
      }
     },
     "source": [
      "* How do you select the regularization parameter $\\gamma$?"
     ]
    },
    {
     "cell_type": "heading",
     "level": 2,
     "metadata": {
      "slideshow": {
       "align_type": "Left",
       "slide_type": "slide"
      }
     },
     "source": [
      "Answer 4"
     ]
    },
    {
     "cell_type": "markdown",
     "metadata": {
      "slideshow": {
       "align_type": "Left",
       "slide_type": "fragment"
      }
     },
     "source": [
      "* k-fold cross-validation\n",
      "* ...\n",
      "\n",
      "(You will hear about other methods in the lecture about metrics and evaluation.)"
     ]
    },
    {
     "cell_type": "heading",
     "level": 2,
     "metadata": {
      "slideshow": {
       "align_type": "Left",
       "slide_type": "slide"
      }
     },
     "source": [
      "Question 5"
     ]
    },
    {
     "cell_type": "markdown",
     "metadata": {
      "slideshow": {
       "align_type": "Left",
       "slide_type": "fragment"
      }
     },
     "source": [
      "* How can we make a model more general?"
     ]
    },
    {
     "cell_type": "heading",
     "level": 2,
     "metadata": {
      "slideshow": {
       "align_type": "Left",
       "slide_type": "slide"
      }
     },
     "source": [
      "Answer 5"
     ]
    },
    {
     "cell_type": "markdown",
     "metadata": {
      "slideshow": {
       "align_type": "Left",
       "slide_type": "fragment"
      }
     },
     "source": [
      "* **Get more training data.**\n",
      "* Generate artificial training data:\n",
      "    * Add noise to your training data\n",
      "    * Example for object recognition: scale, rotate, distort images, select random samples from a bigger image, corrupt image, ...\n",
      "* Prefer simple models (e.g. degree of polynomial)\n",
      "* Penalize large weights, for example\n",
      "    * quadratic values of weights\n",
      "    * absolute values of weights\n",
      "    * ...\n",
      "* Average **different** models (ensemble methods)"
     ]
    }
   ],
   "metadata": {}
  }
 ]
}