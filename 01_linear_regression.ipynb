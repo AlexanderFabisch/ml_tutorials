{
 "metadata": {
  "name": "01_linear_regression"
 },
 "nbformat": 3,
 "nbformat_minor": 0,
 "worksheets": [
  {
   "cells": [
    {
     "cell_type": "markdown",
     "metadata": {},
     "source": [
      "Your Implementations\n",
      "====================\n",
      "\n",
      "... should be written in any programming language that are **freely** available (i.e. **NOT** Matlab), e.g.\n",
      "\n",
      "* [Python](http://www.python.org/)\n",
      "* [Julia](http://julialang.org/)\n",
      "* [Octave](http://www.gnu.org/software/octave/) (free Matlab clone)\n",
      "* C/C++\n",
      "* Java\n",
      "* ...\n",
      "\n",
      "Remember to provide detailed instructions on how to compile and run your programs. Otherwise I will have to contact you and this will slow down the correction of your solutions.\n",
      "\n",
      "It helps **a lot** to use libraries that have support for linear algebra (matrices and vectors), e.g.\n",
      "\n",
      "* Python: [NumPy](http://www.numpy.org/)\n",
      "* Julia: builtin\n",
      "* Octave: builtin\n",
      "* C++: [Eigen **3**](http://eigen.tuxfamily.org/index.php?title=Main_Page)\n",
      "* C/Fortran: [BLAS](http://en.wikipedia.org/wiki/Basic_Linear_Algebra_Subprograms) ([OpenBLAS](http://www.openblas.net/), CBLAS, ...), [LAPack](http://www.netlib.org/lapack/)\n",
      "* Java: [JBlas](http://mikiobraun.github.io/jblas/) (BLAS wrapper), [Jama](http://math.nist.gov/javanumerics/jama/)\n",
      "* Ruby: [NMatrix](https://github.com/SciRuby)\n",
      "* ...\n",
      "\n",
      "Setup\n",
      "=====\n",
      "\n",
      "Required packages to run this notebook:\n",
      "\n",
      "* Python\n",
      "* IPython - interactive Python shell\n",
      "* IPython notebooks - IPython for the browser\n",
      "* NumPy - linear algebra library\n",
      "* Matplotlib - plotting library\n",
      "\n",
      "For Windows: use the [Enthought Python Distribution](https://www.enthought.com/products/epd/).\n",
      "\n",
      "Python\n",
      "======\n",
      "\n",
      "Python is possibly the best choice for the programming tasks since there are many libraries that are great for machine learning, for example\n",
      "\n",
      "* [NumPy](http://www.numpy.org/) for linear algebra\n",
      "* [Matplotlib](http://matplotlib.org/) for visualization\n",
      "* not required in this lecture: SciPy, Pandas, Scikit Learn, ...\n",
      "\n",
      "In addition, you can work interactively with [IPython](http://ipython.org/) notebooks. Examples can be found at the [IPython Notebook Viewer](http://nbviewer.ipython.org/).\n",
      "\n",
      "For Windows, there is a complete package that contains all required libraries for scientific programming: the [Enthought Python Distribution](https://www.enthought.com/products/epd/free/).\n",
      "\n",
      "Introductions to Python and Scientific Programming\n",
      "--------------------------------------------------\n",
      "\n",
      "* **[Python Scientific Lecture Notes](http://scipy-lectures.github.io/)**\n",
      "* [General Introduction to Python](http://www.diveintopython.net/)\n",
      "* [Interactive Python Tutorial](http://www.learnpython.org/)\n",
      "* [NumPy for Matlab Users](http://wiki.scipy.org/NumPy_for_Matlab_Users)\n",
      "\n",
      "IDEs\n",
      "----\n",
      "\n",
      "* Platform independend: [Eclipse](http://www.eclipse.org/) with [PyDev](http://pydev.org/)\n",
      "* Mac OS X: [TextMate](https://github.com/textmate/textmate), [PyCharm](http://www.jetbrains.com/pycharm/)"
     ]
    },
    {
     "cell_type": "markdown",
     "metadata": {},
     "source": [
      "Application of the Week: Imitation Learning with Dynamical Movement Primitives and Linear Regression\n",
      "====================================================================================================\n",
      "\n",
      "Dynamical Movement Primitives (DMPs) are trajectory representations that\n",
      "\n",
      "* are goal-directed\n",
      "* are robust to perturbations and noise (like potential fields)\n",
      "* are arbitrarily shapeable\n",
      "* can be scaled and translated arbitrarily, even online\n",
      "* are parametrized policy representations that can be used for reinforcement learning\n",
      "* can be used for imitation learning\n",
      "\n",
      "DMPs consist of superimposed movements:\n",
      "\n",
      "* a goal-directed movement\n",
      "* an arbitrarily shapeable \"forcing term\"\n",
      "* obstacle avoidance\n",
      "\n",
      "![Superimposed Movements](files/01_linear_regression/potential_field.svg)\n",
      "\n",
      "The forcing term can be learned from demonstrations (e.g. from human demonstrations) by linear regression.\n",
      "\n",
      "![Imitation Learning](files/01_linear_regression/imitation.svg)"
     ]
    },
    {
     "cell_type": "markdown",
     "metadata": {},
     "source": [
      "k-Fold Cross-Validation\n",
      "======================="
     ]
    },
    {
     "cell_type": "code",
     "collapsed": false,
     "input": [
      "from IPython.display import HTML\n",
      "HTML('<iframe src=http://en.wikipedia.org/wiki/Cross-validation_%28statistics%29?useformat=mobile width=700 height=350></iframe>')"
     ],
     "language": "python",
     "metadata": {},
     "outputs": [
      {
       "html": [
        "<iframe src=http://en.wikipedia.org/wiki/Cross-validation_%28statistics%29?useformat=mobile width=700 height=350></iframe>"
       ],
       "output_type": "pyout",
       "prompt_number": 1,
       "text": [
        "<IPython.core.display.HTML at 0x2274f50>"
       ]
      }
     ],
     "prompt_number": 1
    },
    {
     "cell_type": "code",
     "collapsed": false,
     "input": [
      "# Enable inline plots\n",
      "%pylab inline\n",
      "# Fix seed for random number generator to make the results repeatable\n",
      "random.seed(0)\n",
      "# Pretty matrix outputs\n",
      "numpy.set_printoptions(precision=3, threshold=1000, edgeitems=5, linewidth=80, suppress=True)\n",
      "\n",
      "# Utility functions\n",
      "def build_sinusoidal(n_degree, w):\n",
      "    from itertools import chain\n",
      "    # That does not look readable but it works :)\n",
      "    return (((\"%+.2f \\sin(%d /\" + str(n_degree) + \" \\pi x)\") * (n_degree+1)) % tuple(chain(*zip(w, range(n_degree+1)))))"
     ],
     "language": "python",
     "metadata": {},
     "outputs": [
      {
       "output_type": "stream",
       "stream": "stdout",
       "text": [
        "\n",
        "Welcome to pylab, a matplotlib-based Python environment [backend: module://IPython.zmq.pylab.backend_inline].\n",
        "For more information, type 'help(pylab)'.\n"
       ]
      }
     ],
     "prompt_number": 2
    },
    {
     "cell_type": "markdown",
     "metadata": {},
     "source": [
      "Linear Regression\n",
      "=================\n",
      "\n",
      "* We have samples $\\left(x^{(n)}, y^{(n)}\\right), n = 1, \\ldots, N$ drawn from an unknown function $f(x) = y$, where $x \\in \\mathbb{R}^D, y \\in \\mathbb{R}$. This is called training set $T$.\n",
      "* The goal is to learn a mapping $x^{(n)} \\rightarrow y^{(n)}\\quad \\forall \\left(x^{(n)}, y^{(n)}\\right) \\in T$. $x^{(n)}$ is the input and $y^{(n)}$ is the corresponding desired output (target).\n",
      "\n",
      "Example\n",
      "-------\n",
      "\n",
      "Dataset: line + noise"
     ]
    },
    {
     "cell_type": "code",
     "collapsed": false,
     "input": [
      "# Training set:\n",
      "N = 5                                           # Size of the data set\n",
      "X = linspace(0.0, 1.0, N).reshape((N, 1))       # Inputs, shape: N x 1\n",
      "y = linspace(7.0, -5.0, N) + 2*random.randn(N)  # Outputs, shape: N\n",
      "\n",
      "print(\"X =\")\n",
      "print(X)\n",
      "print(\"y =\")\n",
      "print(y)\n",
      "\n",
      "# Test set:\n",
      "N_test = 100\n",
      "X_test = linspace(0.0, 1.0, N_test).reshape((N_test, 1))\n",
      "y_test = linspace(7.0, -5.0, N_test) + 2*random.randn(N_test)"
     ],
     "language": "python",
     "metadata": {},
     "outputs": [
      {
       "output_type": "stream",
       "stream": "stdout",
       "text": [
        "X =\n",
        "[[ 0.  ]\n",
        " [ 0.25]\n",
        " [ 0.5 ]\n",
        " [ 0.75]\n",
        " [ 1.  ]]\n",
        "y =\n",
        "[ 10.528   4.8     2.957   2.482  -1.265]\n"
       ]
      }
     ],
     "prompt_number": 3
    },
    {
     "cell_type": "code",
     "collapsed": false,
     "input": [
      "plot(X[:, 0], y, \"o\")\n",
      "#plot(X_test[:, 0], y_test, \"o\")\n",
      "xlabel(\"x\")\n",
      "ylabel(\"y\")"
     ],
     "language": "python",
     "metadata": {},
     "outputs": [
      {
       "output_type": "pyout",
       "prompt_number": 4,
       "text": [
        "<matplotlib.text.Text at 0x2c96410>"
       ]
      },
      {
       "output_type": "display_data",
       "png": "[encoded data removed]"
      }
     ],
     "prompt_number": 4
    },
    {
     "cell_type": "markdown",
     "metadata": {},
     "source": [
      "Linear Model\n",
      "------------\n",
      "\n",
      "* We can write our constraints down with a **linear** model: $$\\forall n \\in \\{1,\\ldots,N\\}:\\quad x^{(n)T} \\boldsymbol{w} = y^{(n)},$$ where $\\boldsymbol{w}$ is a weight vector.\n",
      "* Weights are parameters of the linear model that can be tuned to fit the training data better.\n",
      "* A shorter version of this expression is the following equation:\n",
      "$$\\boldsymbol{X} \\cdot \\boldsymbol{w} = \\boldsymbol{y}, \\qquad \\boldsymbol{X} \\in \\mathbb{R}^{N \\times D}, \\boldsymbol{y} \\in \\mathbb{R}^N, \\boldsymbol{w} \\in \\mathbb{R}^D,$$\n",
      "where the $n$-th **row** of $\\boldsymbol{X}$ represents $x^{(n)}$ and the $n$-th entry of the vector $\\boldsymbol{y}$ represents $y^{(n)}$.\n",
      "* It might not be possible to find a weight vector that satisfies the constraints perfectly. Instead, we can minimize the sum of squared errors (SSE): $$\\hat{\\boldsymbol{w}} = \\text{argmin}_\\boldsymbol{w} \\dfrac{1}{2}||\\boldsymbol{X}\\boldsymbol{w} - \\boldsymbol{y}||^2_2,$$ where $||\\boldsymbol{A}||_2$ is called [Frobenius norm](http://en.wikipedia.org/wiki/Matrix_norm#Frobenius_norm) and is the generalization of the Euclidean norm for matrices.\n",
      "\n",
      "Learning Weights\n",
      "----------------\n",
      "\n",
      "There are two ways to adjust the weights of a linear model (which includes linear models with nonlinear features):\n",
      "\n",
      "* **Normal equations** (analytical solution), requires inversion of $D \\times D$ matrix, i.e. does not scale well with the number of features\n",
      "* **Gradient descent** (iterative solution), requires the calculation of $N$ gradients in each step, i.e. does not scale well with the number of examples\n",
      "\n",
      "In addition, we can add a constraint to the objective function to penalize large weights:\n",
      "\n",
      "* **Tikhonov regularization**\n",
      "\n",
      "Normal Equations\n",
      "----------------\n",
      "\n",
      "Solving the equation $\\boldsymbol{X} \\cdot \\boldsymbol{w} = \\boldsymbol{y}$ directly for $\\boldsymbol{w}$ by inversion is not possible, because $\\boldsymbol{X}$ is not necessarily a square matrix, i.e. $\\boldsymbol{w} = \\boldsymbol{X}^{-1} \\boldsymbol{y}$ is usually not possible. In addition, it is usually not possible to find an exact solution. Instead, we find the [least squares](http://en.wikipedia.org/wiki/Linear_least_squares_%28mathematics%29) solution, which is the solution of\n",
      "\n",
      "$$\\boldsymbol{X}^T\\boldsymbol{X} \\hat{\\boldsymbol{w}} = \\boldsymbol{X}^T\\boldsymbol{y}$$\n",
      "\n",
      "for $\\hat{\\boldsymbol{w}}$, i.e.\n",
      "\n",
      "$$\\hat{\\boldsymbol{w}} = (\\boldsymbol{X}^T\\boldsymbol{X})^{-1}\\boldsymbol{X}^T\\boldsymbol{y}$$\n",
      "\n",
      "*Hint:* The expression $(\\boldsymbol{X}^T\\boldsymbol{X})^{-1}\\boldsymbol{X}^T$ is equivalent to the [Moore-Penrose pseudoinverse](http://en.wikipedia.org/wiki/Moore%E2%80%93Penrose_pseudoinverse) $\\boldsymbol{X}^+$ of $\\boldsymbol{X}$. It is a generalization of the inverse for non-square matrices. You can use this to implement normal equations if your library provides the function. You could also use a least squares solver (e.g. numpy.linalg.lstsq or dgelsd/zgelsd from LAPACK)."
     ]
    },
    {
     "cell_type": "code",
     "collapsed": false,
     "input": [
      "def normal_equations(X, y):\n",
      "    #w = linalg.inv(X.T.dot(X)).dot(X.T).dot(y)\n",
      "    # ... or we can use the Moore-Penrose pseudoinverse (is usually more likely to be numerically stable)\n",
      "    #w = linalg.pinv(X).dot(y)\n",
      "    # ... or we use the solver\n",
      "    w = linalg.lstsq(X, y)[0]\n",
      "    return w\n",
      "\n",
      "# Add bias to each row/instance:\n",
      "# x11 x12 ...          x11 x12 ... 1\n",
      "# x21 x22 ...   --->   x21 x22 ... 1\n",
      "# .                    .\n",
      "# .                    .\n",
      "# .                    .\n",
      "X_bias = hstack((X, ones((N, 1))))\n",
      "X_test_bias = hstack((X_test, ones((N_test, 1))))\n",
      "w = normal_equations(X_bias, y)"
     ],
     "language": "python",
     "metadata": {},
     "outputs": [],
     "prompt_number": 5
    },
    {
     "cell_type": "code",
     "collapsed": false,
     "input": [
      "plot(X_bias[:, 0], y, \"o\")\n",
      "plot(X_bias[:, 0], X_bias.dot(w), \"-\", linewidth=3)\n",
      "xlabel(\"x\")\n",
      "ylabel(\"y\")\n",
      "title(\"Model: $y = %.2f x + %.2f$\" % tuple(w))"
     ],
     "language": "python",
     "metadata": {},
     "outputs": [
      {
       "output_type": "pyout",
       "prompt_number": 6,
       "text": [
        "<matplotlib.text.Text at 0x2e86c50>"
       ]
      },
      {
       "output_type": "display_data",
       "png": "[encoded data removed]"
      }
     ],
     "prompt_number": 6
    },
    {
     "cell_type": "markdown",
     "metadata": {},
     "source": [
      "Normal Equations - Step by Step\n",
      "-------------------------------\n",
      "\n",
      "In the exercises you have to write down\n",
      "\n",
      "* $\\boldsymbol{X}$ (extended with bias) and $\\boldsymbol{y}$\n",
      "* $\\boldsymbol{X}^T \\boldsymbol{X}$\n",
      "* $(\\boldsymbol{X}^T \\boldsymbol{X})^{-1}$\n",
      "* $(\\boldsymbol{X}^T \\boldsymbol{X})^{-1} \\boldsymbol{X}^T$\n",
      "* $\\hat{\\boldsymbol{w}} = (\\boldsymbol{X}^T \\boldsymbol{y})^{-1} \\boldsymbol{X}^T \\boldsymbol{y}$\n",
      "\n",
      "*Hint:* The [inverse of a 2x2 matrix](http://en.wikipedia.org/wiki/Invertible_matrix#Inversion_of_2.C3.972_matrices) is given by\n",
      "\n",
      "    A = [a b]\n",
      "        [c d]\n",
      "\n",
      "    Ainv = 1 / (ad - bc) * [ d -b]\n",
      "                           [-c  a]"
     ]
    },
    {
     "cell_type": "code",
     "collapsed": false,
     "input": [
      "print \"X =\"\n",
      "print X_bias\n",
      "print \"y =\"\n",
      "print y"
     ],
     "language": "python",
     "metadata": {},
     "outputs": [
      {
       "output_type": "stream",
       "stream": "stdout",
       "text": [
        "X =\n",
        "[[ 0.    1.  ]\n",
        " [ 0.25  1.  ]\n",
        " [ 0.5   1.  ]\n",
        " [ 0.75  1.  ]\n",
        " [ 1.    1.  ]]\n",
        "y =\n",
        "[ 10.528   4.8     2.957   2.482  -1.265]\n"
       ]
      }
     ],
     "prompt_number": 7
    },
    {
     "cell_type": "code",
     "collapsed": false,
     "input": [
      "print \"X^T X =\"\n",
      "print X_bias.T.dot(X_bias)"
     ],
     "language": "python",
     "metadata": {},
     "outputs": [
      {
       "output_type": "stream",
       "stream": "stdout",
       "text": [
        "X^T X =\n",
        "[[ 1.875  2.5  ]\n",
        " [ 2.5    5.   ]]\n"
       ]
      }
     ],
     "prompt_number": 8
    },
    {
     "cell_type": "code",
     "collapsed": false,
     "input": [
      "print \"(X^T X)^{-1} =\"\n",
      "print linalg.inv(X_bias.T.dot(X_bias))"
     ],
     "language": "python",
     "metadata": {},
     "outputs": [
      {
       "output_type": "stream",
       "stream": "stdout",
       "text": [
        "(X^T X)^{-1} =\n",
        "[[ 1.6 -0.8]\n",
        " [-0.8  0.6]]\n"
       ]
      }
     ],
     "prompt_number": 9
    },
    {
     "cell_type": "code",
     "collapsed": false,
     "input": [
      "print \"(X^T X)^{-1} X^T =\"\n",
      "print linalg.inv(X_bias.T.dot(X_bias)).dot(X_bias.T)"
     ],
     "language": "python",
     "metadata": {},
     "outputs": [
      {
       "output_type": "stream",
       "stream": "stdout",
       "text": [
        "(X^T X)^{-1} X^T =\n",
        "[[-0.8 -0.4 -0.   0.4  0.8]\n",
        " [ 0.6  0.4  0.2  0.  -0.2]]\n"
       ]
      }
     ],
     "prompt_number": 10
    },
    {
     "cell_type": "code",
     "collapsed": false,
     "input": [
      "print \"w = (X^T X)^{-1} X^T y =\"\n",
      "print linalg.inv(X_bias.T.dot(X_bias)).dot(X_bias.T).dot(y)"
     ],
     "language": "python",
     "metadata": {},
     "outputs": [
      {
       "output_type": "stream",
       "stream": "stdout",
       "text": [
        "w = (X^T X)^{-1} X^T y =\n",
        "[-10.362   9.081]\n"
       ]
      }
     ],
     "prompt_number": 11
    },
    {
     "cell_type": "markdown",
     "metadata": {},
     "source": [
      "Question\n",
      "--------\n",
      "\n",
      "* inputs: 100 images of size 256x256 pixels\n",
      "* output: radius of the ball which is at the center of the image\n",
      "* Is the direct solution via normal equations the fastest solution?\n",
      "\n",
      "Answer\n",
      "------"
     ]
    },
    {
     "cell_type": "code",
     "collapsed": false,
     "input": [
      "n_pixels = 256 * 256\n",
      "memory_size_xtx = n_pixels * n_pixels * 64/8\n",
      "print \"%d GiB\" % (memory_size_xtx / 2**30)"
     ],
     "language": "python",
     "metadata": {},
     "outputs": [
      {
       "output_type": "stream",
       "stream": "stdout",
       "text": [
        "32 GiB\n"
       ]
      }
     ],
     "prompt_number": 12
    },
    {
     "cell_type": "markdown",
     "metadata": {},
     "source": [
      "Inversion is an operation that requires $O(n^{2.373})$ operations ([Source](http://en.wikipedia.org/wiki/Computational_complexity_of_mathematical_operations))."
     ]
    },
    {
     "cell_type": "markdown",
     "metadata": {},
     "source": [
      "Gradient Descent\n",
      "----------------\n",
      "\n",
      "Update $\\boldsymbol{w}_t$ incrementally:\n",
      "\n",
      "$$\\boldsymbol{w}_{t+1} = \\boldsymbol{w}_t - \\alpha \\nabla \\boldsymbol{w}_t,$$\n",
      "\n",
      "where\n",
      "\n",
      "* $\\alpha$ is a hyperparameter called \"learning rate\", it has to be set manually and must usually be within $]0, 1[$, typical values are 10e-1, 10e-2, 10e-3, ...\n",
      "* $\\nabla \\boldsymbol{w}_t$ is the **gradient** of $\\boldsymbol{w}_t$, i.e. the $i$-th entry of $\\Delta \\boldsymbol{w}_t$ is the derivative of the error function $E(\\boldsymbol{X}, \\boldsymbol{y};\\boldsymbol{w}_t)$ with respect to the weight $w_i$: $$\\Delta {\\boldsymbol{w}_t}_i = \\frac{\\partial E(\\boldsymbol{X}, \\boldsymbol{y};\\boldsymbol{w}_t)}{\\partial {w_t}_i}$$\n",
      "\n",
      "Gradient descent actually is a more general rule that can be applied to any minimization problem if the gradient can be computed (e.g. for artificial neural networks, support vector machines, k-means, ...).\n",
      "\n",
      "Gradient of the Linear Model\n",
      "----------------------------\n",
      "\n",
      "Error function: sum of squared errors (SSE)\n",
      "$$E(\\boldsymbol{X}, \\boldsymbol{y};\\boldsymbol{w}) = \\frac{1}{2}||\\boldsymbol{X} \\cdot \\boldsymbol{w} - \\boldsymbol{y}||^2_2$$\n",
      "\n",
      "Gradient\n",
      "$$\\nabla \\boldsymbol{w} = \\nabla_{\\boldsymbol{w}} E(\\boldsymbol{X}, \\boldsymbol{y};\\boldsymbol{w}) = \\boldsymbol{X}^T \\cdot (\\boldsymbol{X} \\cdot \\boldsymbol{w} - \\boldsymbol{y})$$"
     ]
    },
    {
     "cell_type": "code",
     "collapsed": false,
     "input": [
      "def gradient(X, y, w):\n",
      "    return X.T.dot(X.dot(w) - y)\n",
      "\n",
      "def gradient_descent(X, y, w0, alpha, n_iterations):\n",
      "    w = w0.copy()\n",
      "    history = []\n",
      "    for _ in xrange(n_iterations):\n",
      "        w -= alpha * gradient(X, y, w) # Gradient descent update\n",
      "        history.append(w.copy())\n",
      "    return w, history\n",
      "\n",
      "w, history = gradient_descent(X_bias, y, w0=numpy.zeros(2), alpha=0.1, n_iterations=100)"
     ],
     "language": "python",
     "metadata": {},
     "outputs": [],
     "prompt_number": 13
    },
    {
     "cell_type": "code",
     "collapsed": false,
     "input": [
      "plot(X_bias[:, 0], y, \"o\")\n",
      "plot(X_bias[:, 0], X_bias.dot(w), \"-\", linewidth=3)\n",
      "for i in xrange(0, len(history), 20):\n",
      "    plot(X_bias[:, 0], X_bias.dot(history[i]), \"-\", linewidth=3)\n",
      "xlabel(\"x\")\n",
      "ylabel(\"y\")\n",
      "title(\"Model: $y = %.2f x + %.2f$\" % tuple(w))"
     ],
     "language": "python",
     "metadata": {},
     "outputs": [
      {
       "output_type": "pyout",
       "prompt_number": 14,
       "text": [
        "<matplotlib.text.Text at 0x329b610>"
       ]
      },
      {
       "output_type": "display_data",
       "png": "[encoded data removed]"
      }
     ],
     "prompt_number": 14
    },
    {
     "cell_type": "markdown",
     "metadata": {},
     "source": [
      "Question\n",
      "--------\n",
      "\n",
      "* Why don't we always choose a very small learning rate?\n",
      "* Your implementation of gradient descent oscillates between two error values. What could be the cause?"
     ]
    },
    {
     "cell_type": "markdown",
     "metadata": {},
     "source": [
      "Application of the Week: Learning Inverse Kinematics with Locally Weighted Projection Regression\n",
      "======================================================================================\n",
      "\n",
      "* Forward Kinematics (FK): mapping from current **joint angles** to **end-effector pose**\n",
      "* Inverse Kinematics (IK): mapping from desired **end-effector pose** to required **joint angles**\n",
      "\n",
      "Learning IK\n",
      "-----------\n",
      "\n",
      "* Inverse (Velocity) Kinematics is the mapping $(\\dot{\\boldsymbol{x}}, \\boldsymbol{\\theta}) \\rightarrow \\dot{\\boldsymbol{\\theta}}$, where\n",
      "    * $\\dot{\\boldsymbol{x}}$ is the desired velocity in task space (position and orientation)\n",
      "    * $\\boldsymbol{\\theta}$ are the current joint angles\n",
      "    * $\\dot{\\boldsymbol{\\theta}}$ is the required angular velocity of the joints\n",
      "* Problems\n",
      "    * Solution of IK is not unique with redundant DOFs\n",
      "    * Model of analytic solution can be inaccurate\n",
      "    * Analytic solution is very hard to determine\n",
      "* Paper: [Learning Inverse Kinematics](http://www-clmc.usc.edu/~adsouza/papers/dsouza-IROS2001.pdf)\n",
      "* Library: [LWPR](http://mloss.org/software/view/65/)"
     ]
    },
    {
     "cell_type": "markdown",
     "metadata": {},
     "source": [
      "Tikhonov Regularization\n",
      "-----------------------\n",
      "\n",
      "* Linear least squares: $$\\hat{\\boldsymbol{w}} = \\text{argmin}_\\boldsymbol{w} \\dfrac{1}{2}||\\boldsymbol{X}\\boldsymbol{w} - \\boldsymbol{y}||^2_2$$\n",
      "* Linear least squares + Tikhonov Regularization: $$\\hat{\\boldsymbol{w}} = \\text{argmin}_\\boldsymbol{w} \\dfrac{1}{2}||\\boldsymbol{X}\\boldsymbol{w} - \\boldsymbol{y}||^2_2 + ||\\Gamma w||^2_2$$\n",
      "* In many cases, $\\boldsymbol{\\Gamma}$ is chosen to be diagonal, e.g. $\\boldsymbol{\\Gamma} = diag(\\gamma)$ for some $\\gamma \\in \\mathbb{R}$\n",
      "* For $\\gamma = 0$: Equal to (unregularized) linear least squares\n",
      "* For $\\gamma > 0$: Giving preference to solutions $w$ with smaller norms (stronger for larger $\\gamma$)\n",
      "* Normal equation solution: $$\\hat{\\boldsymbol{w}} = (\\boldsymbol{X}^T \\boldsymbol{X} + \\boldsymbol{\\Gamma}^T \\boldsymbol{\\Gamma})^{-1}\\boldsymbol{X}^T \\boldsymbol{y}$$"
     ]
    },
    {
     "cell_type": "markdown",
     "metadata": {},
     "source": [
      "Question\n",
      "--------\n",
      "\n",
      "* What is the effect of Tikhonov regularization?"
     ]
    },
    {
     "cell_type": "markdown",
     "metadata": {},
     "source": [
      "Answer\n",
      "------\n",
      "\n",
      "* High $\\gamma$ will result in low model \"complexity\".\n",
      "* We use a **prior** $p(\\boldsymbol{w})$ for our possible models: Gaussian with mean $\\boldsymbol{0}$.\n",
      "* The learned model will be more general.\n",
      "* $\\boldsymbol{X}^T \\boldsymbol{X} + \\boldsymbol{\\Gamma}^T \\boldsymbol{\\Gamma}$ is better **conditioned** than $\\boldsymbol{X}^T \\boldsymbol{X}$ (and more likely to be invertible)."
     ]
    },
    {
     "cell_type": "code",
     "collapsed": false,
     "input": [
      "def tikhonov(X, y, gamma):\n",
      "    Gamma = numpy.eye(X.shape[1]) * gamma\n",
      "    w = linalg.pinv(X.T.dot(X) + Gamma.T.dot(Gamma)).dot(X.T).dot(y)\n",
      "    return w\n",
      "\n",
      "results = [(tikhonov(X_bias, y, gamma=gamma), gamma) for gamma in [0.0, 0.1, 0.5, 1.0, 5.0]]"
     ],
     "language": "python",
     "metadata": {},
     "outputs": [],
     "prompt_number": 15
    },
    {
     "cell_type": "code",
     "collapsed": false,
     "input": [
      "plot(X_bias[:, 0], y, \"o\")\n",
      "for (w_reg, gamma) in results:\n",
      "    plot(X_bias[:, 0], X_bias.dot(w_reg), \"-\", linewidth=3, label=\"$\\gamma = %.2f$\" % gamma)\n",
      "xlabel(\"x\")\n",
      "ylabel(\"y\")\n",
      "legend(loc=\"best\")"
     ],
     "language": "python",
     "metadata": {},
     "outputs": [
      {
       "output_type": "pyout",
       "prompt_number": 16,
       "text": [
        "<matplotlib.legend.Legend at 0x341e3d0>"
       ]
      },
      {
       "output_type": "display_data",
       "png": "[encoded data removed]"
      }
     ],
     "prompt_number": 16
    },
    {
     "cell_type": "markdown",
     "metadata": {},
     "source": [
      "Approximation of Nonlinear Functions (with a Linear Model)\n",
      "----------------------------------------------------\n",
      "\n",
      "To approximate nonlinear funtions with a linear model, we have to generate **nonlinear features**. In this example, we generate **sinusoidal** features. You could also try radial basis functions, polynomials, ...\n",
      "\n",
      "We expand each feature $x$ to the nonlinear feature vector $(\\cos(\\frac{0}{d} \\pi x), \\cos(\\frac{1}{d} \\pi x), \\ldots, \\cos(\\frac{d}{d} \\pi x))^T$, where $d$ is the number of basis functions. Note that $\\cos \\left(\\frac{0}{D} \\pi x \\right)=1$ is the bias we added manually in the previous example."
     ]
    },
    {
     "cell_type": "code",
     "collapsed": false,
     "input": [
      "def sinusoidalize(X, n_degree):\n",
      "    X_sinusoidal = numpy.ndarray((len(X), n_degree+1))\n",
      "    for d in range(n_degree+1):\n",
      "        X_sinusoidal[:, d] = numpy.cos(X[:, 0] * numpy.pi * d / n_degree)\n",
      "    return X_sinusoidal\n",
      "\n",
      "n_degree = 4\n",
      "X_sinusoidal = sinusoidalize(X, n_degree=n_degree)\n",
      "X_test_sinusoidal = sinusoidalize(X_test, n_degree=n_degree)\n",
      "w_sin = normal_equations(X_sinusoidal, y)"
     ],
     "language": "python",
     "metadata": {},
     "outputs": [],
     "prompt_number": 17
    },
    {
     "cell_type": "code",
     "collapsed": false,
     "input": [
      "plot(X_bias[:, 0], y, \"o\")\n",
      "#plot(X_bias[:, 0], X_bias.dot(w), \"-\", linewidth=3) # Uncomment to compare with linear approximation\n",
      "plot(X_test_bias[:, 0], X_test_sinusoidal.dot(w_sin), \"-\", linewidth=3, color=\"r\")\n",
      "xlabel(\"x\")\n",
      "ylabel(\"y\")\n",
      "title(\"Model: $y = \" + build_sinusoidal(n_degree, w_sin) + \"$\")"
     ],
     "language": "python",
     "metadata": {},
     "outputs": [
      {
       "output_type": "pyout",
       "prompt_number": 18,
       "text": [
        "<matplotlib.text.Text at 0x5b5ff10>"
       ]
      },
      {
       "output_type": "display_data",
       "png": "[encoded data removed]"
      }
     ],
     "prompt_number": 18
    },
    {
     "cell_type": "code",
     "collapsed": false,
     "input": [
      "w_sin_regularized = tikhonov(X_sinusoidal, y, gamma=0.1)\n",
      "plot(X_bias[:, 0], y, \"o\")\n",
      "#plot(X_bias[:, 0], X_bias.dot(w), \"-\", linewidth=3) # Uncomment to compare with linear approximation\n",
      "plot(X_test_bias[:, 0], X_test_sinusoidal.dot(w_sin), \"-\", linewidth=3, color=\"r\")\n",
      "plot(X_test_bias[:, 0], X_test_sinusoidal.dot(w_sin_regularized), \"-\", linewidth=3, color=\"y\")\n",
      "xlabel(\"x\")\n",
      "ylabel(\"y\")\n",
      "title(\"Model: $y = \" + build_sinusoidal(n_degree, w_sin_regularized) + \"$\")"
     ],
     "language": "python",
     "metadata": {},
     "outputs": [
      {
       "output_type": "pyout",
       "prompt_number": 19,
       "text": [
        "<matplotlib.text.Text at 0x3bebb50>"
       ]
      },
      {
       "output_type": "display_data",
       "png": "[encoded data removed]"
      }
     ],
     "prompt_number": 19
    },
    {
     "cell_type": "markdown",
     "metadata": {},
     "source": [
      "Question\n",
      "--------\n",
      "\n",
      "* How do you select the regularization parameter $\\gamma$?"
     ]
    },
    {
     "cell_type": "markdown",
     "metadata": {},
     "source": [
      "Answer\n",
      "------\n",
      "\n",
      "* k-fold cross-validation\n",
      "* ...\n",
      "\n",
      "(You will hear about other methods in the lecture about metrics and evaluation.)"
     ]
    },
    {
     "cell_type": "markdown",
     "metadata": {},
     "source": [
      "Question\n",
      "-------\n",
      "\n",
      "* How can we make a model more general?"
     ]
    },
    {
     "cell_type": "markdown",
     "metadata": {},
     "source": [
      "Answer\n",
      "-----\n",
      "\n",
      "* **Get more training data.**\n",
      "* Generate artificial training data:\n",
      "    * Add noise to your training data\n",
      "    * Example for object recognition: scale, rotate, distort images, select random samples from a bigger image, corrupt image, ...\n",
      "* Prefer simple models (e.g. degree of polynomial)\n",
      "* Penalize large weights, for example\n",
      "    * quadratic values of weights\n",
      "    * absolute values of weights\n",
      "    * ...\n",
      "* Average **different** models (ensemble methods)"
     ]
    }
   ],
   "metadata": {}
  }
 ]
}