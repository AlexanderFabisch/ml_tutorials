{
 "metadata": {
  "celltoolbar": "Slideshow",
  "name": ""
 },
 "nbformat": 3,
 "nbformat_minor": 0,
 "worksheets": [
  {
   "cells": [
    {
     "cell_type": "heading",
     "level": 1,
     "metadata": {
      "slideshow": {
       "slide_type": "slide"
      }
     },
     "source": [
      "Developing Machine Learning Software"
     ]
    },
    {
     "cell_type": "heading",
     "level": 2,
     "metadata": {
      "slideshow": {
       "slide_type": "slide"
      }
     },
     "source": [
      "Programming Language"
     ]
    },
    {
     "cell_type": "markdown",
     "metadata": {
      "slideshow": {
       "slide_type": "fragment"
      }
     },
     "source": [
      "Your exercise solutions should be written in any programming language that are **freely** available (i.e. **NOT** Matlab), e.g.\n",
      "\n",
      "* [Python](http://www.python.org/)\n",
      "* [Julia](http://julialang.org/)\n",
      "* [Octave](http://www.gnu.org/software/octave/) (free Matlab clone)\n",
      "* C/C++\n",
      "* Java\n",
      "* ...\n",
      "\n",
      "Remember to provide detailed instructions on how to compile and run your programs. Otherwise I will have to contact you and this will slow down the correction of your solutions."
     ]
    },
    {
     "cell_type": "markdown",
     "metadata": {
      "slideshow": {
       "slide_type": "fragment"
      }
     },
     "source": [
      "It helps **a lot** to use libraries that have support for linear algebra (matrices and vectors), e.g.\n",
      "\n",
      "* Python: [NumPy](http://www.numpy.org/)\n",
      "* Julia: builtin\n",
      "* Octave: builtin\n",
      "* C++: [Eigen **3**](http://eigen.tuxfamily.org/index.php?title=Main_Page)\n",
      "* C/Fortran: [BLAS](http://en.wikipedia.org/wiki/Basic_Linear_Algebra_Subprograms) ([OpenBLAS](http://www.openblas.net/), CBLAS, ...), [LAPack](http://www.netlib.org/lapack/)\n",
      "* Java: [JBlas](http://mikiobraun.github.io/jblas/) (BLAS wrapper), [Jama](http://math.nist.gov/javanumerics/jama/)\n",
      "* Ruby: [NMatrix](https://github.com/SciRuby)\n",
      "* ..."
     ]
    },
    {
     "cell_type": "heading",
     "level": 2,
     "metadata": {
      "slideshow": {
       "slide_type": "slide"
      }
     },
     "source": [
      "Python"
     ]
    },
    {
     "cell_type": "markdown",
     "metadata": {
      "slideshow": {
       "slide_type": "fragment"
      }
     },
     "source": [
      "Python is possibly the best choice for the programming tasks today since there are many libraries that are great for machine learning, for example\n",
      "\n",
      "* [NumPy](http://www.numpy.org/) for linear algebra\n",
      "* [Matplotlib](http://matplotlib.org/) for visualization\n",
      "* not required in this lecture: SciPy, Pandas, Scikit Learn, Theano, ...\n",
      "\n",
      "In addition, you can work interactively with [IPython](http://ipython.org/) notebooks. Examples can be found at the [IPython Notebook Viewer](http://nbviewer.ipython.org/)."
     ]
    },
    {
     "cell_type": "heading",
     "level": 2,
     "metadata": {
      "slideshow": {
       "slide_type": "slide"
      }
     },
     "source": [
      "Setup Python Environment"
     ]
    },
    {
     "cell_type": "markdown",
     "metadata": {
      "slideshow": {
       "slide_type": "fragment"
      }
     },
     "source": [
      "Required packages to run this notebook:\n",
      "\n",
      "* Python\n",
      "* IPython - interactive Python shell\n",
      "* IPython notebooks - IPython for the browser\n",
      "* NumPy - linear algebra library\n",
      "* Matplotlib - plotting library\n",
      "\n",
      "Scientific Python Distributions\n",
      "\n",
      "* [Enthought Python Distribution](https://www.enthought.com/products/epd/)\n",
      "* [Anaconda](https://store.continuum.io/cshop/anaconda/)"
     ]
    },
    {
     "cell_type": "heading",
     "level": 2,
     "metadata": {
      "slideshow": {
       "slide_type": "slide"
      }
     },
     "source": [
      "Introductions to Python and Scientific Programming"
     ]
    },
    {
     "cell_type": "markdown",
     "metadata": {
      "slideshow": {
       "slide_type": "fragment"
      }
     },
     "source": [
      "* **[Python Scientific Lecture Notes](http://scipy-lectures.github.io/)**\n",
      "* [General Introduction to Python](http://www.diveintopython.net/)\n",
      "* [Interactive Python Tutorial](http://www.learnpython.org/)\n",
      "* [NumPy for Matlab Users](http://wiki.scipy.org/NumPy_for_Matlab_Users)"
     ]
    },
    {
     "cell_type": "heading",
     "level": 2,
     "metadata": {
      "slideshow": {
       "slide_type": "slide"
      }
     },
     "source": [
      "IDEs"
     ]
    },
    {
     "cell_type": "markdown",
     "metadata": {
      "slideshow": {
       "slide_type": "fragment"
      }
     },
     "source": [
      "* Platform independend: [Eclipse](http://www.eclipse.org/) with [PyDev](http://pydev.org/)\n",
      "* Mac OS X: [TextMate](https://github.com/textmate/textmate), [PyCharm](http://www.jetbrains.com/pycharm/)"
     ]
    },
    {
     "cell_type": "heading",
     "level": 1,
     "metadata": {
      "slideshow": {
       "slide_type": "slide"
      }
     },
     "source": [
      "IPython"
     ]
    },
    {
     "cell_type": "code",
     "collapsed": false,
     "input": [
      "# IPython magic: load numpy and matplotlib\n",
      "%pylab inline"
     ],
     "language": "python",
     "metadata": {
      "slideshow": {
       "slide_type": "fragment"
      }
     },
     "outputs": [
      {
       "output_type": "stream",
       "stream": "stdout",
       "text": [
        "Populating the interactive namespace from numpy and matplotlib\n"
       ]
      }
     ],
     "prompt_number": 1
    },
    {
     "cell_type": "code",
     "collapsed": false,
     "input": [
      "%run test.py"
     ],
     "language": "python",
     "metadata": {
      "slideshow": {
       "slide_type": "fragment"
      }
     },
     "outputs": [
      {
       "output_type": "stream",
       "stream": "stderr",
       "text": [
        "ERROR: File `u'test.py'` not found.\n"
       ]
      }
     ],
     "prompt_number": 2
    },
    {
     "cell_type": "code",
     "collapsed": false,
     "input": [
      "cat README.md"
     ],
     "language": "python",
     "metadata": {
      "slideshow": {
       "slide_type": "slide"
      }
     },
     "outputs": [
      {
       "output_type": "stream",
       "stream": "stdout",
       "text": [
        "Machine Learning Tutorials\r\n",
        "==========================\r\n",
        "\r\n",
        "These are IPython notebooks for the tutorials of the machine learning course\r\n",
        "at the University of Bremen.\r\n",
        "\r\n",
        "You can view the notebooks and the corresponding slides\r\n",
        "[here](http://alexanderfabisch.github.io/ml_tutorials/).\r\n",
        "\r\n",
        "Requirements\r\n",
        "------------\r\n",
        "\r\n",
        "The following packages are required to use these notebooks:\r\n",
        "\r\n",
        "* Python\r\n",
        "* IPython - interactive Python shell\r\n",
        "* IPython notebooks - IPython for the browser\r\n",
        "* NumPy - linear algebra library\r\n",
        "* Matplotlib - plotting library\r\n",
        "\r\n",
        "For Windows: use the [Enthought Python Distribution](https://www.enthought.com/products/epd/).\r\n",
        "\r\n"
       ]
      }
     ],
     "prompt_number": 3
    },
    {
     "cell_type": "code",
     "collapsed": false,
     "input": [
      "plot(linspace(0, 3, 100), sin(linspace(0, 3, 100)))"
     ],
     "language": "python",
     "metadata": {
      "slideshow": {
       "slide_type": "slide"
      }
     },
     "outputs": [
      {
       "metadata": {},
       "output_type": "pyout",
       "prompt_number": 4,
       "text": [
        "[<matplotlib.lines.Line2D at 0x3eab7d0>]"
       ]
      },
      {
       "metadata": {},
       "output_type": "display_data",
       "png": "[encoded data removed]",
       "text": [
        "<matplotlib.figure.Figure at 0x3e883d0>"
       ]
      }
     ],
     "prompt_number": 4
    },
    {
     "cell_type": "code",
     "collapsed": false,
     "input": [
      "np.random.randn(2, 2)"
     ],
     "language": "python",
     "metadata": {
      "slideshow": {
       "slide_type": "fragment"
      }
     },
     "outputs": [
      {
       "metadata": {},
       "output_type": "pyout",
       "prompt_number": 5,
       "text": [
        "array([[ 0.44606833,  0.37918633],\n",
        "       [-0.98990351, -0.27101525]])"
       ]
      }
     ],
     "prompt_number": 5
    }
   ],
   "metadata": {}
  }
 ]
}