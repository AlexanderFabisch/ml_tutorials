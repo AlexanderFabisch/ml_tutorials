{
 "metadata": {
  "name": ""
 },
 "nbformat": 3,
 "nbformat_minor": 0,
 "worksheets": [
  {
   "cells": [
    {
     "cell_type": "heading",
     "level": 1,
     "metadata": {
      "slideshow": {
       "align_type": "Left",
       "slide_type": "slide"
      }
     },
     "source": [
      "Reinforcement Learning"
     ]
    },
    {
     "cell_type": "markdown",
     "metadata": {
      "slideshow": {
       "align_type": "Left",
       "slide_type": "fragment"
      }
     },
     "source": [
      "Good reference: [Reinforcement Learning: An Introduction (Sutton & Barto)](http://webdocs.cs.ualberta.ca/~sutton/book/ebook/the-book.html)"
     ]
    },
    {
     "cell_type": "markdown",
     "metadata": {
      "slideshow": {
       "align_type": "Left",
       "slide_type": "slide"
      }
     },
     "source": [
      "![Agent-environment interface](files/04_rl_function_approximation/rl-agent-environment-interface.svg)"
     ]
    },
    {
     "cell_type": "heading",
     "level": 2,
     "metadata": {
      "slideshow": {
       "align_type": "Left",
       "slide_type": "slide"
      }
     },
     "source": [
      "Question 1"
     ]
    },
    {
     "cell_type": "markdown",
     "metadata": {
      "slideshow": {
       "align_type": "Left",
       "slide_type": "fragment"
      }
     },
     "source": [
      "What are the differences between supervised learning and reinforcement learning?"
     ]
    },
    {
     "cell_type": "heading",
     "level": 2,
     "metadata": {
      "slideshow": {
       "align_type": "Left",
       "slide_type": "slide"
      }
     },
     "source": [
      "Answer 1"
     ]
    },
    {
     "cell_type": "markdown",
     "metadata": {
      "slideshow": {
       "align_type": "Left",
       "slide_type": "fragment"
      }
     },
     "source": [
      "* label -> reward\n",
      "* we have a sequence of decisions, i.e. future rewards must be considered"
     ]
    },
    {
     "cell_type": "heading",
     "level": 2,
     "metadata": {
      "slideshow": {
       "align_type": "Left",
       "slide_type": "slide"
      }
     },
     "source": [
      "Classical RL Approach"
     ]
    },
    {
     "cell_type": "markdown",
     "metadata": {
      "slideshow": {
       "align_type": "Left",
       "slide_type": "fragment"
      }
     },
     "source": [
      "* We have a Markov decision process (MDP) with $(S, A, \\mathcal{R_{ss'}^a}, \\mathcal{P}_{ss'}^a)$\n",
      "* $S$ is the discrete set of states\n",
      "* $A$ is the discrete set of actions\n",
      "* $\\mathcal{R_{ss'}^a}$ is the reward function\n",
      "* $\\mathcal{P}_{ss'}^a$ is the state transition distribution\n",
      "* Usually we also require initial state(s) and goal state(s).\n",
      "* Q-Learning tries to find an estimate of the **value function** $Q(s, a)$."
     ]
    },
    {
     "cell_type": "markdown",
     "metadata": {
      "slideshow": {
       "align_type": "Left",
       "slide_type": "fragment"
      }
     },
     "source": [
      "Markov property\n",
      "\n",
      "$$P(s_{t+1}|a_t,s_t,\\ldots,a_0,s_0) = P(s_{t+1}|a_t,s_t)$$"
     ]
    },
    {
     "cell_type": "heading",
     "level": 2,
     "metadata": {
      "slideshow": {
       "align_type": "Left",
       "slide_type": "slide"
      }
     },
     "source": [
      "Value Function"
     ]
    },
    {
     "cell_type": "markdown",
     "metadata": {
      "slideshow": {
       "align_type": "Left",
       "slide_type": "fragment"
      }
     },
     "source": [
      "How good is it to be in state $s$ and execute action $a$?\n",
      "\n",
      "$$Q(s, a) = \\mathbb{E}\\left[ \\sum_{k=0}^\\infty \\gamma^k r_{t+k+1} \\vert s, a \\right] = \\mathbb{E}\\left[ r_{t+1} + \\gamma Q(s_{t+1}, a_{t+1}) \\vert s, a \\right]$$\n",
      "\n",
      "$Q$ is usually a table!"
     ]
    },
    {
     "cell_type": "markdown",
     "metadata": {
      "slideshow": {
       "slide_type": "fragment"
      }
     },
     "source": [
      "Return model: discounted infinite horizon\n",
      "\n",
      "$R_t = \\sum_{i = 0}^\\infty \\gamma^i r_{t+1+i}$,\n",
      "\n",
      "The *discounting factor* $\\gamma \\in (0, 1)$ should be close to 1!"
     ]
    },
    {
     "cell_type": "heading",
     "level": 2,
     "metadata": {
      "slideshow": {
       "align_type": "Left",
       "slide_type": "slide"
      }
     },
     "source": [
      "Policy"
     ]
    },
    {
     "cell_type": "markdown",
     "metadata": {
      "slideshow": {
       "align_type": "Left",
       "slide_type": "fragment"
      }
     },
     "source": [
      "* We can infer the greedy policy: $$\\pi_Q(s) = \\arg \\max_a Q(s, a)$$ (optimal according to the current estimate of $Q$)\n",
      "* During learning, we can encourage exploration with softmax action selection $$\\pi_{\\text{Softmax}}(s, a) = \\frac{\\exp(Q(s, a) / \\tau)}{\\sum_{a' \\in A} \\exp(Q(s, a') / \\tau)}$$ which will give you a probability for each action $a$ according to a temperature $\\tau$. (A high temperature will result in more exploration, possible values are e.g. $10^1, 10^0, 10^{-1}, 10^{-2}$)\n",
      "* A more intuitive but often worse exploration policy is called $\\epsilon$-greedy: select a random action with probability $\\epsilon$ and otherwise take the optimal action (greedy policy)"
     ]
    },
    {
     "cell_type": "heading",
     "level": 2,
     "metadata": {
      "slideshow": {
       "align_type": "Left",
       "slide_type": "slide"
      }
     },
     "source": [
      "Q-Learning"
     ]
    },
    {
     "cell_type": "markdown",
     "metadata": {
      "slideshow": {
       "align_type": "Left",
       "slide_type": "fragment"
      }
     },
     "source": [
      "Source: [Sutton & Barto](http://webdocs.cs.ualberta.ca/~sutton/book/ebook/node65.html)"
     ]
    },
    {
     "cell_type": "markdown",
     "metadata": {
      "slideshow": {
       "align_type": "Left",
       "slide_type": "fragment"
      }
     },
     "source": [
      "![](http://webdocs.cs.ualberta.ca/~sutton/book/ebook/pseudotmp9.png)"
     ]
    },
    {
     "cell_type": "heading",
     "level": 2,
     "metadata": {
      "slideshow": {
       "align_type": "Left",
       "slide_type": "slide"
      }
     },
     "source": [
      "Random Walk"
     ]
    },
    {
     "cell_type": "markdown",
     "metadata": {
      "slideshow": {
       "align_type": "Left",
       "slide_type": "fragment"
      }
     },
     "source": [
      "Source: [Sutton & Barto](http://webdocs.cs.ualberta.ca/~sutton/book/ebook/node62.html)"
     ]
    },
    {
     "cell_type": "markdown",
     "metadata": {
      "slideshow": {
       "align_type": "Left",
       "slide_type": "fragment"
      }
     },
     "source": [
      "![Random Walk](http://webdocs.cs.ualberta.ca/~sutton/book/ebook/figtmp26.png)"
     ]
    },
    {
     "cell_type": "code",
     "collapsed": false,
     "input": [
      "%pylab inline"
     ],
     "language": "python",
     "metadata": {
      "slideshow": {
       "align_type": "Left",
       "slide_type": "fragment"
      }
     },
     "outputs": [
      {
       "output_type": "stream",
       "stream": "stdout",
       "text": [
        "Populating the interactive namespace from numpy and matplotlib\n"
       ]
      }
     ],
     "prompt_number": 1
    },
    {
     "cell_type": "code",
     "collapsed": false,
     "input": [
      "A = [\"left\", \"right\"]"
     ],
     "language": "python",
     "metadata": {
      "slideshow": {
       "align_type": "Left",
       "slide_type": "fragment"
      }
     },
     "outputs": [],
     "prompt_number": 2
    },
    {
     "cell_type": "code",
     "collapsed": false,
     "input": [
      "S = [\"left_goal\", \"A\", \"B\", \"C\", \"D\", \"E\", \"right_goal\"]"
     ],
     "language": "python",
     "metadata": {
      "slideshow": {
       "align_type": "Left",
       "slide_type": "fragment"
      }
     },
     "outputs": [],
     "prompt_number": 3
    },
    {
     "cell_type": "code",
     "collapsed": false,
     "input": [
      "def state_transition(state, action): # Deterministic, unknown to the agent\n",
      "    state_index = S.index(state)\n",
      "    if action == \"left\": state_index -= 1\n",
      "    elif action == \"right\": state_index += 1\n",
      "    return S[state_index]"
     ],
     "language": "python",
     "metadata": {
      "slideshow": {
       "align_type": "Left",
       "slide_type": "slide"
      }
     },
     "outputs": [],
     "prompt_number": 4
    },
    {
     "cell_type": "code",
     "collapsed": false,
     "input": [
      "def reward(state, action, next_state): # Deterministic, unknown to the agent\n",
      "    if next_state == \"right_goal\": return 1\n",
      "    else: return 0"
     ],
     "language": "python",
     "metadata": {
      "slideshow": {
       "align_type": "Left",
       "slide_type": "fragment"
      }
     },
     "outputs": [],
     "prompt_number": 5
    },
    {
     "cell_type": "code",
     "collapsed": false,
     "input": [
      "def initial_state():\n",
      "    return \"C\""
     ],
     "language": "python",
     "metadata": {
      "slideshow": {
       "align_type": "Left",
       "slide_type": "fragment"
      }
     },
     "outputs": [],
     "prompt_number": 6
    },
    {
     "cell_type": "code",
     "collapsed": false,
     "input": [
      "def finished(state):\n",
      "    return state in [\"left_goal\", \"right_goal\"]"
     ],
     "language": "python",
     "metadata": {
      "slideshow": {
       "align_type": "Left",
       "slide_type": "fragment"
      }
     },
     "outputs": [],
     "prompt_number": 7
    },
    {
     "cell_type": "code",
     "collapsed": false,
     "input": [
      "class GreedyPolicy(object):\n",
      "    def __init__(self, Q): self.Q = Q\n",
      "    def __call__(self, state): return A[argmax(self.Q(state))]"
     ],
     "language": "python",
     "metadata": {
      "slideshow": {
       "align_type": "Left",
       "slide_type": "slide"
      }
     },
     "outputs": [],
     "prompt_number": 8
    },
    {
     "cell_type": "code",
     "collapsed": false,
     "input": [
      "class Softmax(object):\n",
      "    def __init__(self, Q, tau):\n",
      "        self.Q = Q\n",
      "        self.tau = tau\n",
      "    def __call__(self, state):\n",
      "        p = exp(self.Q(state)/self.tau)\n",
      "        p /= p.sum()\n",
      "        # You could also use random.choice() in NumPy >= 1.7\n",
      "        # for the following lines:\n",
      "        x = random.rand()\n",
      "        for i in range(p.shape[0]):\n",
      "            if p.cumsum()[i] >= x: return A[i]"
     ],
     "language": "python",
     "metadata": {},
     "outputs": [],
     "prompt_number": 9
    },
    {
     "cell_type": "code",
     "collapsed": false,
     "input": [
      "class EpsilonGreedyPolicy(object):\n",
      "    def __init__(self, Q, epsilon):\n",
      "        self.Q = Q\n",
      "        self.epsilon = epsilon\n",
      "    def __call__(self, state):\n",
      "        if random.rand() < self.epsilon:\n",
      "            return A[random.randint(0, len(A))]\n",
      "        else:\n",
      "            return A[argmax(self.Q(state))]"
     ],
     "language": "python",
     "metadata": {
      "slideshow": {
       "align_type": "Left",
       "slide_type": "fragment"
      }
     },
     "outputs": [],
     "prompt_number": 10
    },
    {
     "cell_type": "code",
     "collapsed": false,
     "input": [
      "class QTable(object):\n",
      "    def __init__(self, S, A):\n",
      "        self.Q = zeros((len(S), len(A)))\n",
      "    def __call__(self, state, action=None):\n",
      "        if action is None:\n",
      "            return self.Q[S.index(state)]\n",
      "        else:\n",
      "            return self.Q[S.index(state), A.index(action)]\n",
      "    def correct(self, state, action, target, alpha):\n",
      "        self.Q[S.index(state), A.index(action)] += alpha * (target - self(state, action))"
     ],
     "language": "python",
     "metadata": {
      "slideshow": {
       "align_type": "Left",
       "slide_type": "slide"
      }
     },
     "outputs": [],
     "prompt_number": 11
    },
    {
     "cell_type": "code",
     "collapsed": false,
     "input": [
      "def q_learning(alpha, gamma, epsilon, n_episodes, Q):\n",
      "    for episode in range(n_episodes):\n",
      "        state = initial_state()\n",
      "        while not finished(state):\n",
      "            action = EpsilonGreedyPolicy(Q, epsilon)(state)\n",
      "            next_state = state_transition(state, action)\n",
      "            r = reward(state, action, next_state)\n",
      "            Q.correct(state, action, r + gamma * numpy.max(Q(next_state)), alpha)\n",
      "            state = next_state\n",
      "\n",
      "    return Q"
     ],
     "language": "python",
     "metadata": {
      "slideshow": {
       "align_type": "Left",
       "slide_type": "slide"
      }
     },
     "outputs": [],
     "prompt_number": 12
    },
    {
     "cell_type": "code",
     "collapsed": false,
     "input": [
      "figure(figsize(10, 6))\n",
      "for i in range(6):\n",
      "    n_episodes = 100*i\n",
      "    setp(subplot(3, 2, i+1), xticks=(), yticks=(), title=\"Episode #%d\" % n_episodes,\n",
      "         xlabel=\"State\", ylabel=\"Action\")\n",
      "    # Note that epsilon = 0.4 is very high!\n",
      "    imshow(q_learning(alpha=0.1, gamma=0.95, epsilon=0.4, n_episodes=n_episodes,\n",
      "                      Q=QTable(S, A)).Q.T, cmap=cm.gray, interpolation=\"nearest\")"
     ],
     "language": "python",
     "metadata": {
      "slideshow": {
       "align_type": "Left",
       "slide_type": "slide"
      }
     },
     "outputs": [
      {
       "metadata": {},
       "output_type": "display_data",
       "png": "[encoded data removed]",
       "text": [
        "<matplotlib.figure.Figure at 0x3f95a50>"
       ]
      }
     ],
     "prompt_number": 13
    },
    {
     "cell_type": "heading",
     "level": 1,
     "metadata": {
      "slideshow": {
       "align_type": "Left",
       "slide_type": "slide"
      }
     },
     "source": [
      "Discrete Actions, Continuous States"
     ]
    },
    {
     "cell_type": "markdown",
     "metadata": {
      "slideshow": {
       "align_type": "Left",
       "slide_type": "fragment"
      }
     },
     "source": [
      "* Value function $Q(s, a)$ cannot be represented in a table for either a continuous state space or a large number of states.\n"
     ]
    },
    {
     "cell_type": "markdown",
     "metadata": {
      "slideshow": {
       "align_type": "Left",
       "slide_type": "fragment"
      }
     },
     "source": [
      "* $Q(s, a)$ will be represented by a function approximator, e.g.\n",
      "    * linear with nonlinear features: coarse coding, tile coding, **RBF**, Kanerva coding, ...\n",
      "    * nonlinear: **ANN**, SVR, GPR (Gaussian process regression), ..."
     ]
    },
    {
     "cell_type": "markdown",
     "metadata": {
      "slideshow": {
       "align_type": "Left",
       "slide_type": "fragment"
      }
     },
     "source": [
      "* In step $t$, we will use the tuple $(s_t, a_t, r_t, s_{t+1})$ to update the value function.\n"
     ]
    },
    {
     "cell_type": "markdown",
     "metadata": {
      "slideshow": {
       "align_type": "Left",
       "slide_type": "fragment"
      }
     },
     "source": [
      "* The function approximator will predict $\\hat{y}^{(t)} = Q(s_t, a_t)$ and receives the target $y^{(t)} = r_t + \\max_{a'} Q(s_{t+1}, a')$."
     ]
    },
    {
     "cell_type": "heading",
     "level": 2,
     "metadata": {
      "slideshow": {
       "align_type": "Left",
       "slide_type": "slide"
      }
     },
     "source": [
      "Example: Mountain Car"
     ]
    },
    {
     "cell_type": "code",
     "collapsed": false,
     "input": [
      "from IPython.display import YouTubeVideo\n",
      "YouTubeVideo(\"0_xeAD6ZgVU\")"
     ],
     "language": "python",
     "metadata": {
      "slideshow": {
       "align_type": "Left",
       "slide_type": "fragment"
      }
     },
     "outputs": [
      {
       "html": [
        "\n",
        "        <iframe\n",
        "            width=\"400\"\n",
        "            height=300\"\n",
        "            src=\"http://www.youtube.com/embed/0_xeAD6ZgVU\"\n",
        "            frameborder=\"0\"\n",
        "            allowfullscreen\n",
        "        ></iframe>\n",
        "        "
       ],
       "metadata": {},
       "output_type": "pyout",
       "prompt_number": 14,
       "text": [
        "<IPython.lib.display.YouTubeVideo at 0x3f95dd0>"
       ]
      }
     ],
     "prompt_number": 14
    },
    {
     "cell_type": "code",
     "collapsed": false,
     "input": [
      "print YouTubeVideo(\"0_xeAD6ZgVU\").src"
     ],
     "language": "python",
     "metadata": {
      "slideshow": {
       "align_type": "Left",
       "slide_type": "fragment"
      }
     },
     "outputs": [
      {
       "output_type": "stream",
       "stream": "stdout",
       "text": [
        "http://www.youtube.com/embed/0_xeAD6ZgVU\n"
       ]
      }
     ],
     "prompt_number": 15
    },
    {
     "cell_type": "heading",
     "level": 2,
     "metadata": {
      "slideshow": {
       "align_type": "Left",
       "slide_type": "slide"
      }
     },
     "source": [
      "Function Approximators"
     ]
    },
    {
     "cell_type": "markdown",
     "metadata": {
      "slideshow": {
       "align_type": "Left",
       "slide_type": "fragment"
      }
     },
     "source": [
      "* Use linear function approximators whenever possible! They are more stable than nonlinear FAs ([RL FAQ](http://webdocs.cs.ualberta.ca/~sutton/RL-FAQ.html#backpropagation)).\n",
      "* Otherwise use local function approximators, e.g. radial basis functions (RBFs).\n",
      "* Global function approximators (e.g. MLPs) have the problem of **catastrophic forgetting**."
     ]
    },
    {
     "cell_type": "heading",
     "level": 2,
     "metadata": {
      "slideshow": {
       "align_type": "Left",
       "slide_type": "slide"
      }
     },
     "source": [
      "Radial Basis Functions"
     ]
    },
    {
     "cell_type": "markdown",
     "metadata": {
      "slideshow": {
       "align_type": "Left",
       "slide_type": "fragment"
      }
     },
     "source": [
      "* Remember: you can approximate arbitrary functions with **linear regression** and **nonlinear features** $\\phi(x)$.\n",
      "* With RBFs, changing a weight $w_i$ that is associated with $\\phi_i(x)$ has only **local** effects.\n",
      "* An example for an RBF is $$\\phi_i(x) = \\exp \\left(-\\frac{(x-c_i)^2}{2 h_i} \\right).$$"
     ]
    },
    {
     "cell_type": "code",
     "collapsed": false,
     "input": [
      "%pylab inline\n",
      "random.seed(0)"
     ],
     "language": "python",
     "metadata": {
      "slideshow": {
       "align_type": "Left",
       "slide_type": "subslide"
      }
     },
     "outputs": [
      {
       "output_type": "stream",
       "stream": "stdout",
       "text": [
        "Populating the interactive namespace from numpy and matplotlib\n"
       ]
      }
     ],
     "prompt_number": 16
    },
    {
     "cell_type": "markdown",
     "metadata": {
      "slideshow": {
       "align_type": "Left",
       "slide_type": "slide"
      }
     },
     "source": [
      "Centers $c_i$ can be\n",
      "\n",
      "* uniform random distributed\n",
      "* equally spaced\n",
      "* determined by clustering (k-means, GMM-EM, ...)"
     ]
    },
    {
     "cell_type": "code",
     "collapsed": false,
     "input": [
      "n_rbfs = 5\n",
      "centers = linspace(0, 1, n_rbfs)"
     ],
     "language": "python",
     "metadata": {
      "slideshow": {
       "align_type": "Left",
       "slide_type": "fragment"
      }
     },
     "outputs": [],
     "prompt_number": 17
    },
    {
     "cell_type": "markdown",
     "metadata": {
      "slideshow": {
       "align_type": "Left",
       "slide_type": "fragment"
      }
     },
     "source": [
      "Usually the widths $h_i$ are all equal."
     ]
    },
    {
     "cell_type": "code",
     "collapsed": false,
     "input": [
      "widths = diff(centers)\n",
      "widths = 0.05*hstack((widths, widths[-1]))"
     ],
     "language": "python",
     "metadata": {
      "slideshow": {
       "align_type": "Left",
       "slide_type": "fragment"
      }
     },
     "outputs": [],
     "prompt_number": 18
    },
    {
     "cell_type": "code",
     "collapsed": false,
     "input": [
      "def rbf_features(x):\n",
      "    return exp(-0.5*(x-centers)**2/widths)"
     ],
     "language": "python",
     "metadata": {
      "slideshow": {
       "align_type": "Left",
       "slide_type": "fragment"
      }
     },
     "outputs": [],
     "prompt_number": 19
    },
    {
     "cell_type": "code",
     "collapsed": false,
     "input": [
      "n_samples = 100\n",
      "X = linspace(0, 1, n_samples)\n",
      "Phi = array([rbf_features(x) for x in X])\n",
      "w = random.randn(n_rbfs)\n",
      "y = sum(Phi * w, axis=1)\n",
      "\n",
      "figure(figsize=(10, 5))\n",
      "subplot(1, 2, 1)\n",
      "title(\"Radial Basis Functions\")\n",
      "for n in xrange(n_rbfs):\n",
      "    plot(X, Phi[:, n])\n",
      "subplot(1, 2, 2)\n",
      "title(\"Weighted Sum of RBFs\")\n",
      "r = plot(X, y)"
     ],
     "language": "python",
     "metadata": {
      "slideshow": {
       "align_type": "Left",
       "slide_type": "slide"
      }
     },
     "outputs": [
      {
       "metadata": {},
       "output_type": "display_data",
       "png": "[encoded data removed]",
       "text": [
        "<matplotlib.figure.Figure at 0x3f95d50>"
       ]
      }
     ],
     "prompt_number": 20
    },
    {
     "cell_type": "code",
     "collapsed": false,
     "input": [
      "t = sin(2*pi*X) + random.randn(X.shape[0]) * 0.1\n",
      "w = linalg.lstsq(Phi, t)[0]\n",
      "y = sum(Phi * w, axis=1)\n",
      "title(\"w = (\" + (\", \".join([\"%.2f\"] * len(w)) % tuple(w)) + \")\")\n",
      "plot(X, t, \"o\")\n",
      "r = plot(X, y, lw=5)"
     ],
     "language": "python",
     "metadata": {
      "slideshow": {
       "align_type": "Left",
       "slide_type": "slide"
      }
     },
     "outputs": [
      {
       "metadata": {},
       "output_type": "display_data",
       "png": "[encoded data removed]",
       "text": [
        "<matplotlib.figure.Figure at 0x3f95710>"
       ]
      }
     ],
     "prompt_number": 21
    },
    {
     "cell_type": "code",
     "collapsed": false,
     "input": [
      "t[50:] = 0\n",
      "w = linalg.lstsq(Phi, t)[0]\n",
      "y = sum(Phi * w, axis=1)\n",
      "title(\"w = (\" + (\", \".join([\"%.2f\"] * len(w)) % tuple(w)) + \")\")\n",
      "plot(X, t, \"o\")\n",
      "r = plot(X, y, lw=5)"
     ],
     "language": "python",
     "metadata": {
      "slideshow": {
       "align_type": "Left",
       "slide_type": "slide"
      }
     },
     "outputs": [
      {
       "metadata": {},
       "output_type": "display_data",
       "png": "[encoded data removed]",
       "text": [
        "<matplotlib.figure.Figure at 0x4582f10>"
       ]
      }
     ],
     "prompt_number": 22
    },
    {
     "cell_type": "heading",
     "level": 2,
     "metadata": {
      "slideshow": {
       "align_type": "Left",
       "slide_type": "slide"
      }
     },
     "source": [
      "Random Walk with Function Approximator"
     ]
    },
    {
     "cell_type": "code",
     "collapsed": false,
     "input": [
      "S = linspace(0, 1, 100)"
     ],
     "language": "python",
     "metadata": {
      "slideshow": {
       "align_type": "Left",
       "slide_type": "fragment"
      }
     },
     "outputs": [],
     "prompt_number": 23
    },
    {
     "cell_type": "code",
     "collapsed": false,
     "input": [
      "def initial_state():\n",
      "    return 0.5\n",
      "def finished(state):\n",
      "    return state <= 0.0 or state >= 1.0"
     ],
     "language": "python",
     "metadata": {
      "slideshow": {
       "align_type": "Left",
       "slide_type": "fragment"
      }
     },
     "outputs": [],
     "prompt_number": 24
    },
    {
     "cell_type": "code",
     "collapsed": false,
     "input": [
      "def state_transition(state, action): # Stochastic, unknown to the agent\n",
      "    if action == \"left\": state -= 0.15+random.rand()*0.05\n",
      "    elif action == \"right\": state += 0.15+random.rand()*0.05\n",
      "    return state"
     ],
     "language": "python",
     "metadata": {
      "slideshow": {
       "align_type": "Left",
       "slide_type": "fragment"
      }
     },
     "outputs": [],
     "prompt_number": 25
    },
    {
     "cell_type": "code",
     "collapsed": false,
     "input": [
      "def reward(state, action, next_state): # Deterministic, unknown to the agent\n",
      "    if next_state >= 1.0: return 1\n",
      "    else: return 0"
     ],
     "language": "python",
     "metadata": {
      "slideshow": {
       "align_type": "Left",
       "slide_type": "fragment"
      }
     },
     "outputs": [],
     "prompt_number": 26
    },
    {
     "cell_type": "code",
     "collapsed": false,
     "input": [
      "class QRBF(object):\n",
      "    def __init__(self, n_features, S, A):\n",
      "        self.c = linspace(0, max(S), n_features)\n",
      "        self.h = 0.1*diff(self.c)\n",
      "        self.h = hstack((self.h, self.h[-1]))\n",
      "        self.W = zeros((len(A), n_features))\n",
      "    def features(self, state):\n",
      "        return exp(-0.5*(state-self.c)**2/self.h)\n",
      "    def __call__(self, state, action=None):\n",
      "        Q = self.W.dot(self.features(state))\n",
      "        if action is None: return Q\n",
      "        else: return Q[A.index(action)]\n",
      "    def correct(self, state, action, target, alpha):\n",
      "        phi = self.features(state)\n",
      "        y = phi.dot(self.W[A.index(action)])\n",
      "        self.W[A.index(action)] -= alpha * phi * (y - target)"
     ],
     "language": "python",
     "metadata": {
      "slideshow": {
       "align_type": "Left",
       "slide_type": "slide"
      }
     },
     "outputs": [],
     "prompt_number": 27
    },
    {
     "cell_type": "code",
     "collapsed": false,
     "input": [
      "Q = q_learning(alpha=0.02, gamma=0.9, epsilon=0.4, n_episodes=100,\n",
      "               Q=QRBF(5, S, A))"
     ],
     "language": "python",
     "metadata": {
      "slideshow": {
       "align_type": "Left",
       "slide_type": "slide"
      }
     },
     "outputs": [],
     "prompt_number": 28
    },
    {
     "cell_type": "code",
     "collapsed": false,
     "input": [
      "figure(figsize=(12, 5))\n",
      "Qtable = zeros((len(A), len(S)/5))\n",
      "for i in range(0, len(S), 5):\n",
      "    for j in range(len(A)):\n",
      "        Qtable[j, i/5] = Q(S[i], A[j])\n",
      "setp(gca(), xticks=(), yticks=())\n",
      "r = imshow(Qtable, cmap=cm.gray, interpolation=\"nearest\")"
     ],
     "language": "python",
     "metadata": {
      "slideshow": {
       "align_type": "Left",
       "slide_type": "fragment"
      }
     },
     "outputs": [
      {
       "metadata": {},
       "output_type": "display_data",
       "png": "[encoded data removed]",
       "text": [
        "<matplotlib.figure.Figure at 0x45b7950>"
       ]
      }
     ],
     "prompt_number": 29
    },
    {
     "cell_type": "heading",
     "level": 2,
     "metadata": {
      "slideshow": {
       "align_type": "Left",
       "slide_type": "slide"
      }
     },
     "source": [
      "Question 1"
     ]
    },
    {
     "cell_type": "markdown",
     "metadata": {
      "slideshow": {
       "align_type": "Left",
       "slide_type": "fragment"
      }
     },
     "source": [
      "* Q(s, a) can have values greater than 1, why?"
     ]
    },
    {
     "cell_type": "heading",
     "level": 2,
     "metadata": {
      "slideshow": {
       "align_type": "Left",
       "slide_type": "fragment"
      }
     },
     "source": [
      "Answer 1"
     ]
    },
    {
     "cell_type": "markdown",
     "metadata": {
      "slideshow": {
       "align_type": "Left",
       "slide_type": "fragment"
      }
     },
     "source": [
      "* The *target* for online gradient descent is $r_t + \\max_{a'} Q(s_{t+1}, a')$."
     ]
    },
    {
     "cell_type": "markdown",
     "metadata": {
      "slideshow": {
       "align_type": "Left",
       "slide_type": "fragment"
      }
     },
     "source": [
      "* $Q(s_{t+1}, a')$ is not necessarily correct."
     ]
    },
    {
     "cell_type": "heading",
     "level": 1,
     "metadata": {
      "slideshow": {
       "align_type": "Left",
       "slide_type": "slide"
      }
     },
     "source": [
      "Neural Networks as Function Approximators"
     ]
    },
    {
     "cell_type": "markdown",
     "metadata": {
      "slideshow": {
       "align_type": "Left",
       "slide_type": "fragment"
      }
     },
     "source": [
      "* NNs require lots of tuning."
     ]
    },
    {
     "cell_type": "markdown",
     "metadata": {
      "slideshow": {
       "align_type": "Left",
       "slide_type": "fragment"
      }
     },
     "source": [
      "* There is no perfect solution yet."
     ]
    },
    {
     "cell_type": "markdown",
     "metadata": {
      "slideshow": {
       "align_type": "Left",
       "slide_type": "fragment"
      }
     },
     "source": [
      "* They are able to model highly nonlinear value functions."
     ]
    },
    {
     "cell_type": "markdown",
     "metadata": {
      "slideshow": {
       "align_type": "Left",
       "slide_type": "fragment"
      }
     },
     "source": [
      "* Neural networks have the problem of catastrophic forgetting."
     ]
    },
    {
     "cell_type": "markdown",
     "metadata": {
      "slideshow": {
       "align_type": "Left",
       "slide_type": "fragment"
      }
     },
     "source": [
      "However, there are successful applications:\n",
      "\n",
      "* [TD-Gammon, a Self-Teaching Backgammon Program Achieves Master-Level Play](http://www.tnnls.org/adp/adp-cdrom/Tesauro-1994.pdf), [Sutton & Barto](http://webdocs.cs.ualberta.ca/~sutton/book/ebook/node108.html): MLP (1 hidden layer, 40-80 hidden nodes):\n",
      "\n",
      "* [Playing Atari with Deep Reinforcement Learning](http://arxiv.org/pdf/1312.5602v1.pdf): Deep-Q-Networks (2 convolutional hidden layers, 1 fully connected hidden layer)"
     ]
    },
    {
     "cell_type": "heading",
     "level": 1,
     "metadata": {
      "slideshow": {
       "align_type": "Left",
       "slide_type": "slide"
      }
     },
     "source": [
      "Tasks with Discrete Action Space"
     ]
    },
    {
     "cell_type": "markdown",
     "metadata": {
      "slideshow": {
       "align_type": "Left",
       "slide_type": "fragment"
      }
     },
     "source": [
      "* Games (chess, backgammon, ...)"
     ]
    },
    {
     "cell_type": "markdown",
     "metadata": {
      "slideshow": {
       "align_type": "Left",
       "slide_type": "fragment"
      }
     },
     "source": [
      "* Computer games (car racing, arcade games, ...)"
     ]
    },
    {
     "cell_type": "markdown",
     "metadata": {
      "slideshow": {
       "align_type": "Left",
       "slide_type": "fragment"
      }
     },
     "source": [
      "* Selection of high-level actions (open the door, move forward, ...)"
     ]
    }
   ],
   "metadata": {}
  }
 ]
}