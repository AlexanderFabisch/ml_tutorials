{
 "metadata": {
  "name": "",
  "signature": "sha256:b49c15e24f3a47ebee1ba2d27c7e3cddc1bf02c1f20b535fd4bb868c1251ecd8"
 },
 "nbformat": 3,
 "nbformat_minor": 0,
 "worksheets": [
  {
   "cells": [
    {
     "cell_type": "code",
     "collapsed": false,
     "input": [
      "%pylab inline"
     ],
     "language": "python",
     "metadata": {},
     "outputs": [
      {
       "output_type": "stream",
       "stream": "stdout",
       "text": [
        "Populating the interactive namespace from numpy and matplotlib\n"
       ]
      }
     ],
     "prompt_number": 1
    },
    {
     "cell_type": "heading",
     "level": 1,
     "metadata": {},
     "source": [
      "Deep Learning"
     ]
    },
    {
     "cell_type": "heading",
     "level": 2,
     "metadata": {},
     "source": [
      "Application: Large Scale Unsupervised Feature Learning"
     ]
    },
    {
     "cell_type": "markdown",
     "metadata": {},
     "source": [
      "* [Building High-level Features Using Large Scale Unsupervised Learning](http://research.google.com/archive/unsupervised_icml2012.html)\n",
      "* **Data set**: randomly selected patches from YouTube videos, 10 million images with 200x200 pixels\n",
      "* **Trained on** 2,000 computers (16,000 cores) for a week\n",
      "* **What has been learned?** - Neurons that are specialized to recognize human bodies, faces and ... cats.\n",
      "* Multiple layers of regularized auto-encoders and max-pooling, 1.15 billion (1,150,000,000) weights\n",
      "* Neurons in the upper layers are used as **features** for the ImageNet data set and have improved the performance by more than 70 % (22,000 classes, > 1M instances)"
     ]
    },
    {
     "cell_type": "heading",
     "level": 2,
     "metadata": {},
     "source": [
      "Other Applications"
     ]
    },
    {
     "cell_type": "markdown",
     "metadata": {},
     "source": [
      "(List from [L\u00e9on Bottou](http://leon.bottou.org/))\n",
      "\n",
      "* Check reading (AT&T Bell Labs, 1995-2005)\n",
      "* Optical character recognition (Microsoft OCR, 2000)\n",
      "* Cancer detection from medical images (NEC 2010)\n",
      "* Object recognition (Google and Baidu's photo taggers, 2013)\n",
      "* Speech recognition (Microsoft, Google, IBM switched in 2012)\n",
      "* Natural Language Processing (NEC 2010)"
     ]
    },
    {
     "cell_type": "heading",
     "level": 2,
     "metadata": {},
     "source": [
      "Implementations"
     ]
    },
    {
     "cell_type": "markdown",
     "metadata": {},
     "source": [
      "A neural network library is only as efficient as its linear algebra library.\n",
      "\n",
      "* [Neural Network Package](http://torch.cogbits.com/doc/nn/index.html) in LuaJIT (based on [Torch 7](http://torch.cogbits.com/doc/index.html))\n",
      "* [Pylearn 2](http://deeplearning.net/software/pylearn2/) in Python (based on [Theano](http://deeplearning.net/software/theano/))\n",
      "* [cuda-convnet](http://code.google.com/p/cuda-convnet/) in CUDA/Python\n",
      "* [OpenANN](https://github.com/OpenANN/OpenANN) in C++/Python (based on [Eigen](http://eigen.tuxfamily.org/index.php?title=Main_Page))"
     ]
    }
   ],
   "metadata": {}
  }
 ]
}